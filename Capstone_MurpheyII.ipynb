{
  "cells": [
    {
      "cell_type": "markdown",
      "metadata": {
        "id": "DIWxRfF-HMgY"
      },
      "source": [
        "# Foreign Exchange Rate Prediction using LSTM Recurrent Neural Network"
      ]
    },
    {
      "cell_type": "markdown",
      "metadata": {
        "id": "QDuGvtgEHMga"
      },
      "source": [
        "We will implement the LSTM Recurrent Neural Network to predict the foreign exchange rate. The LSTM model will be trained to learn the series of previous observations and predict the next observation in the sequence. We will apply this model in predicting the foreign exchange rate of British Pounds to American Dollars."
      ]
    },
    {
      "cell_type": "code",
      "execution_count": 1,
      "metadata": {
        "id": "CGpgBRToPdB0"
      },
      "outputs": [],
      "source": [
        "# Importing Linraries\n",
        "import pandas as pd\n",
        "import numpy as np\n",
        "import matplotlib.pyplot as plt\n",
        "%matplotlib inline\n",
        "import tensorflow as tf\n",
        "import keras\n",
        "\n",
        "# Setting seed for reproducibility\n",
        "np.random.seed(42)\n",
        "tf.random.set_seed(42)"
      ]
    },
    {
      "cell_type": "code",
      "execution_count": 2,
      "metadata": {
        "id": "B7raJ8yrPqBY"
      },
      "outputs": [],
      "source": [
        "# Reading dataset\n",
        "data_set = pd.read_csv('./GBPUSD.csv', na_values='ND')"
      ]
    },
    {
      "cell_type": "code",
      "execution_count": 3,
      "metadata": {
        "colab": {
          "base_uri": "https://localhost:8080/"
        },
        "id": "CdWShU4LCWts",
        "outputId": "faf3f424-56fd-4da4-a381-e443f738a1a1"
      },
      "outputs": [
        {
          "output_type": "execute_result",
          "data": {
            "text/plain": [
              "(10851, 2)"
            ]
          },
          "metadata": {},
          "execution_count": 3
        }
      ],
      "source": [
        "data_set.shape"
      ]
    },
    {
      "cell_type": "code",
      "execution_count": 4,
      "metadata": {
        "colab": {
          "base_uri": "https://localhost:8080/",
          "height": 206
        },
        "id": "cw-YlY_APvPT",
        "outputId": "ba96792c-7dac-4002-f5ef-694aa6e7347e"
      },
      "outputs": [
        {
          "output_type": "execute_result",
          "data": {
            "text/plain": [
              "              Date    High\n",
              "0  January 2, 1990  1.6110\n",
              "1  January 3, 1990  1.6100\n",
              "2  January 4, 1990  1.6293\n",
              "3  January 5, 1990  1.6370\n",
              "4  January 8, 1990  1.6530"
            ],
            "text/html": [
              "\n",
              "  <div id=\"df-e70a48f5-9de4-4261-97ed-389a566d1a70\" class=\"colab-df-container\">\n",
              "    <div>\n",
              "<style scoped>\n",
              "    .dataframe tbody tr th:only-of-type {\n",
              "        vertical-align: middle;\n",
              "    }\n",
              "\n",
              "    .dataframe tbody tr th {\n",
              "        vertical-align: top;\n",
              "    }\n",
              "\n",
              "    .dataframe thead th {\n",
              "        text-align: right;\n",
              "    }\n",
              "</style>\n",
              "<table border=\"1\" class=\"dataframe\">\n",
              "  <thead>\n",
              "    <tr style=\"text-align: right;\">\n",
              "      <th></th>\n",
              "      <th>Date</th>\n",
              "      <th>High</th>\n",
              "    </tr>\n",
              "  </thead>\n",
              "  <tbody>\n",
              "    <tr>\n",
              "      <th>0</th>\n",
              "      <td>January 2, 1990</td>\n",
              "      <td>1.6110</td>\n",
              "    </tr>\n",
              "    <tr>\n",
              "      <th>1</th>\n",
              "      <td>January 3, 1990</td>\n",
              "      <td>1.6100</td>\n",
              "    </tr>\n",
              "    <tr>\n",
              "      <th>2</th>\n",
              "      <td>January 4, 1990</td>\n",
              "      <td>1.6293</td>\n",
              "    </tr>\n",
              "    <tr>\n",
              "      <th>3</th>\n",
              "      <td>January 5, 1990</td>\n",
              "      <td>1.6370</td>\n",
              "    </tr>\n",
              "    <tr>\n",
              "      <th>4</th>\n",
              "      <td>January 8, 1990</td>\n",
              "      <td>1.6530</td>\n",
              "    </tr>\n",
              "  </tbody>\n",
              "</table>\n",
              "</div>\n",
              "    <div class=\"colab-df-buttons\">\n",
              "\n",
              "  <div class=\"colab-df-container\">\n",
              "    <button class=\"colab-df-convert\" onclick=\"convertToInteractive('df-e70a48f5-9de4-4261-97ed-389a566d1a70')\"\n",
              "            title=\"Convert this dataframe to an interactive table.\"\n",
              "            style=\"display:none;\">\n",
              "\n",
              "  <svg xmlns=\"http://www.w3.org/2000/svg\" height=\"24px\" viewBox=\"0 -960 960 960\">\n",
              "    <path d=\"M120-120v-720h720v720H120Zm60-500h600v-160H180v160Zm220 220h160v-160H400v160Zm0 220h160v-160H400v160ZM180-400h160v-160H180v160Zm440 0h160v-160H620v160ZM180-180h160v-160H180v160Zm440 0h160v-160H620v160Z\"/>\n",
              "  </svg>\n",
              "    </button>\n",
              "\n",
              "  <style>\n",
              "    .colab-df-container {\n",
              "      display:flex;\n",
              "      gap: 12px;\n",
              "    }\n",
              "\n",
              "    .colab-df-convert {\n",
              "      background-color: #E8F0FE;\n",
              "      border: none;\n",
              "      border-radius: 50%;\n",
              "      cursor: pointer;\n",
              "      display: none;\n",
              "      fill: #1967D2;\n",
              "      height: 32px;\n",
              "      padding: 0 0 0 0;\n",
              "      width: 32px;\n",
              "    }\n",
              "\n",
              "    .colab-df-convert:hover {\n",
              "      background-color: #E2EBFA;\n",
              "      box-shadow: 0px 1px 2px rgba(60, 64, 67, 0.3), 0px 1px 3px 1px rgba(60, 64, 67, 0.15);\n",
              "      fill: #174EA6;\n",
              "    }\n",
              "\n",
              "    .colab-df-buttons div {\n",
              "      margin-bottom: 4px;\n",
              "    }\n",
              "\n",
              "    [theme=dark] .colab-df-convert {\n",
              "      background-color: #3B4455;\n",
              "      fill: #D2E3FC;\n",
              "    }\n",
              "\n",
              "    [theme=dark] .colab-df-convert:hover {\n",
              "      background-color: #434B5C;\n",
              "      box-shadow: 0px 1px 3px 1px rgba(0, 0, 0, 0.15);\n",
              "      filter: drop-shadow(0px 1px 2px rgba(0, 0, 0, 0.3));\n",
              "      fill: #FFFFFF;\n",
              "    }\n",
              "  </style>\n",
              "\n",
              "    <script>\n",
              "      const buttonEl =\n",
              "        document.querySelector('#df-e70a48f5-9de4-4261-97ed-389a566d1a70 button.colab-df-convert');\n",
              "      buttonEl.style.display =\n",
              "        google.colab.kernel.accessAllowed ? 'block' : 'none';\n",
              "\n",
              "      async function convertToInteractive(key) {\n",
              "        const element = document.querySelector('#df-e70a48f5-9de4-4261-97ed-389a566d1a70');\n",
              "        const dataTable =\n",
              "          await google.colab.kernel.invokeFunction('convertToInteractive',\n",
              "                                                    [key], {});\n",
              "        if (!dataTable) return;\n",
              "\n",
              "        const docLinkHtml = 'Like what you see? Visit the ' +\n",
              "          '<a target=\"_blank\" href=https://colab.research.google.com/notebooks/data_table.ipynb>data table notebook</a>'\n",
              "          + ' to learn more about interactive tables.';\n",
              "        element.innerHTML = '';\n",
              "        dataTable['output_type'] = 'display_data';\n",
              "        await google.colab.output.renderOutput(dataTable, element);\n",
              "        const docLink = document.createElement('div');\n",
              "        docLink.innerHTML = docLinkHtml;\n",
              "        element.appendChild(docLink);\n",
              "      }\n",
              "    </script>\n",
              "  </div>\n",
              "\n",
              "\n",
              "<div id=\"df-c278ab1c-534f-43c9-a422-bd46a764db7e\">\n",
              "  <button class=\"colab-df-quickchart\" onclick=\"quickchart('df-c278ab1c-534f-43c9-a422-bd46a764db7e')\"\n",
              "            title=\"Suggest charts\"\n",
              "            style=\"display:none;\">\n",
              "\n",
              "<svg xmlns=\"http://www.w3.org/2000/svg\" height=\"24px\"viewBox=\"0 0 24 24\"\n",
              "     width=\"24px\">\n",
              "    <g>\n",
              "        <path d=\"M19 3H5c-1.1 0-2 .9-2 2v14c0 1.1.9 2 2 2h14c1.1 0 2-.9 2-2V5c0-1.1-.9-2-2-2zM9 17H7v-7h2v7zm4 0h-2V7h2v10zm4 0h-2v-4h2v4z\"/>\n",
              "    </g>\n",
              "</svg>\n",
              "  </button>\n",
              "\n",
              "<style>\n",
              "  .colab-df-quickchart {\n",
              "      --bg-color: #E8F0FE;\n",
              "      --fill-color: #1967D2;\n",
              "      --hover-bg-color: #E2EBFA;\n",
              "      --hover-fill-color: #174EA6;\n",
              "      --disabled-fill-color: #AAA;\n",
              "      --disabled-bg-color: #DDD;\n",
              "  }\n",
              "\n",
              "  [theme=dark] .colab-df-quickchart {\n",
              "      --bg-color: #3B4455;\n",
              "      --fill-color: #D2E3FC;\n",
              "      --hover-bg-color: #434B5C;\n",
              "      --hover-fill-color: #FFFFFF;\n",
              "      --disabled-bg-color: #3B4455;\n",
              "      --disabled-fill-color: #666;\n",
              "  }\n",
              "\n",
              "  .colab-df-quickchart {\n",
              "    background-color: var(--bg-color);\n",
              "    border: none;\n",
              "    border-radius: 50%;\n",
              "    cursor: pointer;\n",
              "    display: none;\n",
              "    fill: var(--fill-color);\n",
              "    height: 32px;\n",
              "    padding: 0;\n",
              "    width: 32px;\n",
              "  }\n",
              "\n",
              "  .colab-df-quickchart:hover {\n",
              "    background-color: var(--hover-bg-color);\n",
              "    box-shadow: 0 1px 2px rgba(60, 64, 67, 0.3), 0 1px 3px 1px rgba(60, 64, 67, 0.15);\n",
              "    fill: var(--button-hover-fill-color);\n",
              "  }\n",
              "\n",
              "  .colab-df-quickchart-complete:disabled,\n",
              "  .colab-df-quickchart-complete:disabled:hover {\n",
              "    background-color: var(--disabled-bg-color);\n",
              "    fill: var(--disabled-fill-color);\n",
              "    box-shadow: none;\n",
              "  }\n",
              "\n",
              "  .colab-df-spinner {\n",
              "    border: 2px solid var(--fill-color);\n",
              "    border-color: transparent;\n",
              "    border-bottom-color: var(--fill-color);\n",
              "    animation:\n",
              "      spin 1s steps(1) infinite;\n",
              "  }\n",
              "\n",
              "  @keyframes spin {\n",
              "    0% {\n",
              "      border-color: transparent;\n",
              "      border-bottom-color: var(--fill-color);\n",
              "      border-left-color: var(--fill-color);\n",
              "    }\n",
              "    20% {\n",
              "      border-color: transparent;\n",
              "      border-left-color: var(--fill-color);\n",
              "      border-top-color: var(--fill-color);\n",
              "    }\n",
              "    30% {\n",
              "      border-color: transparent;\n",
              "      border-left-color: var(--fill-color);\n",
              "      border-top-color: var(--fill-color);\n",
              "      border-right-color: var(--fill-color);\n",
              "    }\n",
              "    40% {\n",
              "      border-color: transparent;\n",
              "      border-right-color: var(--fill-color);\n",
              "      border-top-color: var(--fill-color);\n",
              "    }\n",
              "    60% {\n",
              "      border-color: transparent;\n",
              "      border-right-color: var(--fill-color);\n",
              "    }\n",
              "    80% {\n",
              "      border-color: transparent;\n",
              "      border-right-color: var(--fill-color);\n",
              "      border-bottom-color: var(--fill-color);\n",
              "    }\n",
              "    90% {\n",
              "      border-color: transparent;\n",
              "      border-bottom-color: var(--fill-color);\n",
              "    }\n",
              "  }\n",
              "</style>\n",
              "\n",
              "  <script>\n",
              "    async function quickchart(key) {\n",
              "      const quickchartButtonEl =\n",
              "        document.querySelector('#' + key + ' button');\n",
              "      quickchartButtonEl.disabled = true;  // To prevent multiple clicks.\n",
              "      quickchartButtonEl.classList.add('colab-df-spinner');\n",
              "      try {\n",
              "        const charts = await google.colab.kernel.invokeFunction(\n",
              "            'suggestCharts', [key], {});\n",
              "      } catch (error) {\n",
              "        console.error('Error during call to suggestCharts:', error);\n",
              "      }\n",
              "      quickchartButtonEl.classList.remove('colab-df-spinner');\n",
              "      quickchartButtonEl.classList.add('colab-df-quickchart-complete');\n",
              "    }\n",
              "    (() => {\n",
              "      let quickchartButtonEl =\n",
              "        document.querySelector('#df-c278ab1c-534f-43c9-a422-bd46a764db7e button');\n",
              "      quickchartButtonEl.style.display =\n",
              "        google.colab.kernel.accessAllowed ? 'block' : 'none';\n",
              "    })();\n",
              "  </script>\n",
              "</div>\n",
              "    </div>\n",
              "  </div>\n"
            ]
          },
          "metadata": {},
          "execution_count": 4
        }
      ],
      "source": [
        "# Dataset head\n",
        "data_set.head()"
      ]
    },
    {
      "cell_type": "code",
      "execution_count": 5,
      "metadata": {
        "colab": {
          "base_uri": "https://localhost:8080/"
        },
        "id": "gs9HZoftSiQi",
        "outputId": "e35dd8d9-0748-409f-d8f2-8f782c0d8a75"
      },
      "outputs": [
        {
          "output_type": "execute_result",
          "data": {
            "text/plain": [
              "Date    0\n",
              "High    0\n",
              "dtype: int64"
            ]
          },
          "metadata": {},
          "execution_count": 5
        }
      ],
      "source": [
        "# Checking null values\n",
        "data_set.isnull().sum()"
      ]
    },
    {
      "cell_type": "code",
      "execution_count": 6,
      "metadata": {
        "colab": {
          "base_uri": "https://localhost:8080/"
        },
        "id": "38VFuMQ2Sjno",
        "outputId": "22ec419d-1715-4629-f92b-242b8fe2dfae"
      },
      "outputs": [
        {
          "output_type": "execute_result",
          "data": {
            "text/plain": [
              "Date    0\n",
              "High    0\n",
              "dtype: int64"
            ]
          },
          "metadata": {},
          "execution_count": 6
        }
      ],
      "source": [
        "data_set.interpolate(inplace=True)\n",
        "data_set.isnull().sum()"
      ]
    },
    {
      "cell_type": "code",
      "execution_count": 7,
      "metadata": {
        "colab": {
          "base_uri": "https://localhost:8080/",
          "height": 447
        },
        "id": "zxBUWPCgPzeM",
        "outputId": "30abb5a2-c80a-4fdf-a2ad-22395f05d954"
      },
      "outputs": [
        {
          "output_type": "execute_result",
          "data": {
            "text/plain": [
              "[<matplotlib.lines.Line2D at 0x79ebaa034a90>]"
            ]
          },
          "metadata": {},
          "execution_count": 7
        },
        {
          "output_type": "display_data",
          "data": {
            "text/plain": [
              "<Figure size 640x480 with 1 Axes>"
            ],
            "image/png": "[encoded data removed]"
          },
          "metadata": {}
        }
      ],
      "source": [
        "# Plotting GBPtoUSD Exchange rate\n",
        "plt.plot(data_set['High'])"
      ]
    },
    {
      "cell_type": "code",
      "execution_count": 8,
      "metadata": {
        "id": "KchDR_yYP6EL"
      },
      "outputs": [],
      "source": [
        "# Data frame\n",
        "df = data_set['High']"
      ]
    },
    {
      "cell_type": "code",
      "execution_count": 9,
      "metadata": {
        "colab": {
          "base_uri": "https://localhost:8080/"
        },
        "id": "ny8NjFITQCHz",
        "outputId": "0d77933c-bd8a-44db-f513-7fbec986e9a7"
      },
      "outputs": [
        {
          "output_type": "stream",
          "name": "stdout",
          "text": [
            "0        1.611000\n",
            "1        1.610000\n",
            "2        1.629300\n",
            "3        1.637000\n",
            "4        1.653000\n",
            "           ...   \n",
            "10846    1.260100\n",
            "10847    1.260748\n",
            "10848    1.270648\n",
            "10849    1.268038\n",
            "10850    1.263903\n",
            "Name: High, Length: 10851, dtype: float64\n"
          ]
        }
      ],
      "source": [
        "print(df)"
      ]
    },
    {
      "cell_type": "code",
      "execution_count": 10,
      "metadata": {
        "id": "R2BO97fBQM6C"
      },
      "outputs": [],
      "source": [
        "# Preprocessing data set\n",
        "df = np.array(df).reshape(-1,1)"
      ]
    },
    {
      "cell_type": "code",
      "execution_count": 11,
      "metadata": {
        "colab": {
          "base_uri": "https://localhost:8080/"
        },
        "id": "RfVzi2rhS_J7",
        "outputId": "789e53cd-01c4-48e7-9c2b-484add207b4e"
      },
      "outputs": [
        {
          "output_type": "execute_result",
          "data": {
            "text/plain": [
              "array([[1.611   ],\n",
              "       [1.61    ],\n",
              "       [1.6293  ],\n",
              "       ...,\n",
              "       [1.270648],\n",
              "       [1.268038],\n",
              "       [1.263903]])"
            ]
          },
          "metadata": {},
          "execution_count": 11
        }
      ],
      "source": [
        "df"
      ]
    },
    {
      "cell_type": "code",
      "execution_count": 12,
      "metadata": {
        "id": "6jhJwcG1QQMD"
      },
      "outputs": [],
      "source": [
        "from sklearn.preprocessing import MinMaxScaler\n",
        "scaler = MinMaxScaler()"
      ]
    },
    {
      "cell_type": "code",
      "execution_count": 13,
      "metadata": {
        "id": "W31WJ9-SQfki"
      },
      "outputs": [],
      "source": [
        "df = scaler.fit_transform(df)"
      ]
    },
    {
      "cell_type": "code",
      "execution_count": 14,
      "metadata": {
        "colab": {
          "base_uri": "https://localhost:8080/"
        },
        "id": "CBKGP4mRQS-L",
        "outputId": "58c3c11c-7893-493e-ccd5-f33ca064167c"
      },
      "outputs": [
        {
          "output_type": "execute_result",
          "data": {
            "text/plain": [
              "array([[0.52178702],\n",
              "       [0.52082675],\n",
              "       [0.53935991],\n",
              "       ...,\n",
              "       [0.19495821],\n",
              "       [0.19245192],\n",
              "       [0.18848121]])"
            ]
          },
          "metadata": {},
          "execution_count": 14
        }
      ],
      "source": [
        "df"
      ]
    },
    {
      "cell_type": "code",
      "execution_count": 15,
      "metadata": {
        "colab": {
          "base_uri": "https://localhost:8080/"
        },
        "id": "d5ygb4hhQYFz",
        "outputId": "194fc52e-a68d-4cb8-ad91-0e5f7d27f8e9"
      },
      "outputs": [
        {
          "output_type": "stream",
          "name": "stdout",
          "text": [
            "(8680, 1)\n",
            "(1085, 1)\n",
            "(1086, 1)\n"
          ]
        }
      ],
      "source": [
        "# Training and test sets\n",
        "train_ratio = 0.8\n",
        "val_ratio = 0.1\n",
        "test_ratio = 0.1\n",
        "\n",
        "num_train = int(len(df) * train_ratio)\n",
        "num_val = int(len(df) * val_ratio)\n",
        "\n",
        "train = df[:num_train]\n",
        "val = df[num_train:num_train + num_val]\n",
        "test = df[num_train + num_val:]\n",
        "\n",
        "print(train.shape)\n",
        "print(val.shape)\n",
        "print(test.shape)"
      ]
    },
    {
      "cell_type": "code",
      "execution_count": 16,
      "metadata": {
        "id": "bfxk8KwfQnYi"
      },
      "outputs": [],
      "source": [
        "def get_data(data, look_back):\n",
        "  datax, datay = [],[]\n",
        "  for i in range(len(data)-look_back-1):\n",
        "    datax.append(data[i:(i+look_back),0])\n",
        "    datay.append(data[i+look_back,0])\n",
        "  return np.array(datax) , np.array(datay)"
      ]
    },
    {
      "cell_type": "code",
      "execution_count": 17,
      "metadata": {
        "colab": {
          "base_uri": "https://localhost:8080/"
        },
        "id": "UtWsYOBeQqq6",
        "outputId": "52530aa1-c915-4bb7-c56e-0f17e42e068a"
      },
      "outputs": [
        {
          "output_type": "stream",
          "name": "stdout",
          "text": [
            "(8678, 1)\n",
            "(8678,)\n"
          ]
        }
      ],
      "source": [
        "look_back = 1\n",
        "\n",
        "x_train , y_train = get_data(train, look_back)\n",
        "print(x_train.shape)\n",
        "print(y_train.shape)"
      ]
    },
    {
      "cell_type": "code",
      "execution_count": 18,
      "metadata": {
        "colab": {
          "base_uri": "https://localhost:8080/"
        },
        "id": "m09xVqJR__tX",
        "outputId": "2ca12e41-997f-486e-c354-a7e35e9a26ef"
      },
      "outputs": [
        {
          "output_type": "stream",
          "name": "stdout",
          "text": [
            "(1083, 1)\n",
            "(1083,)\n"
          ]
        }
      ],
      "source": [
        "x_val, y_val = get_data(val, look_back)\n",
        "print(x_val.shape)\n",
        "print(y_val.shape)"
      ]
    },
    {
      "cell_type": "code",
      "execution_count": 19,
      "metadata": {
        "colab": {
          "base_uri": "https://localhost:8080/"
        },
        "id": "QmQ4aTwAQuQz",
        "outputId": "91265280-63ad-450f-dfc7-3ccca3f98669"
      },
      "outputs": [
        {
          "output_type": "stream",
          "name": "stdout",
          "text": [
            "(1084, 1)\n",
            "(1084,)\n"
          ]
        }
      ],
      "source": [
        "x_test , y_test = get_data(test, look_back)\n",
        "print(x_test.shape)\n",
        "print(y_test.shape)"
      ]
    },
    {
      "cell_type": "code",
      "execution_count": 20,
      "metadata": {
        "id": "OzM72hLXQ8oS"
      },
      "outputs": [],
      "source": [
        "# Processing train and test sets for LSTM model\n",
        "x_train = x_train.reshape(x_train.shape[0], x_train.shape[1], 1)\n",
        "x_val = x_val.reshape(x_val.shape[0], x_val.shape[1], 1)\n",
        "x_test = x_test.reshape(x_test.shape[0], x_test.shape[1], 1)"
      ]
    },
    {
      "cell_type": "code",
      "execution_count": 21,
      "metadata": {
        "colab": {
          "base_uri": "https://localhost:8080/"
        },
        "id": "G-B3ojD_Q_9r",
        "outputId": "ce522e45-0228-4042-b1aa-9452f7d2c399"
      },
      "outputs": [
        {
          "output_type": "stream",
          "name": "stdout",
          "text": [
            "(8678, 1, 1)\n",
            "(1083, 1, 1)\n",
            "(1084, 1, 1)\n"
          ]
        }
      ],
      "source": [
        "print(x_train.shape)\n",
        "print(x_val.shape)\n",
        "print(x_test.shape)"
      ]
    },
    {
      "cell_type": "code",
      "execution_count": 22,
      "metadata": {
        "id": "CwlLkaaWUnG3"
      },
      "outputs": [],
      "source": [
        "# Defining the LSTM model\n",
        "from keras.models import Sequential\n",
        "from keras.layers import Dense, LSTM"
      ]
    },
    {
      "cell_type": "code",
      "execution_count": 23,
      "metadata": {
        "id": "ADqH_jV4RE1C"
      },
      "outputs": [],
      "source": [
        "# Regular\n",
        "n_features = x_train.shape[1]\n",
        "model = Sequential()\n",
        "model.add(LSTM(100, activation = 'relu', return_sequences = True, input_shape = (1,1)))\n",
        "model.add(LSTM(50, activation='relu', return_sequences = True))\n",
        "model.add(LSTM(25, activation='relu', return_sequences = True))\n",
        "model.add(LSTM(10, activation='relu', return_sequences = True))\n",
        "model.add(LSTM(5, activation='relu', return_sequences = False))\n",
        "model.add(Dense(n_features))"
      ]
    },
    {
      "cell_type": "code",
      "execution_count": 24,
      "metadata": {
        "colab": {
          "base_uri": "https://localhost:8080/"
        },
        "id": "lbd3pItfnhRU",
        "outputId": "735e4b1a-45f8-4160-998a-49e58b79cd5a"
      },
      "outputs": [
        {
          "output_type": "stream",
          "name": "stdout",
          "text": [
            "Model: \"sequential\"\n",
            "_________________________________________________________________\n",
            " Layer (type)                Output Shape              Param #   \n",
            "=================================================================\n",
            " lstm (LSTM)                 (None, 1, 100)            40800     \n",
            "                                                                 \n",
            " lstm_1 (LSTM)               (None, 1, 50)             30200     \n",
            "                                                                 \n",
            " lstm_2 (LSTM)               (None, 1, 25)             7600      \n",
            "                                                                 \n",
            " lstm_3 (LSTM)               (None, 1, 10)             1440      \n",
            "                                                                 \n",
            " lstm_4 (LSTM)               (None, 5)                 320       \n",
            "                                                                 \n",
            " dense (Dense)               (None, 1)                 6         \n",
            "                                                                 \n",
            "=================================================================\n",
            "Total params: 80366 (313.93 KB)\n",
            "Trainable params: 80366 (313.93 KB)\n",
            "Non-trainable params: 0 (0.00 Byte)\n",
            "_________________________________________________________________\n"
          ]
        }
      ],
      "source": [
        "model.summary()"
      ]
    },
    {
      "cell_type": "code",
      "execution_count": 25,
      "metadata": {
        "id": "UtqjJA0wRHPq"
      },
      "outputs": [],
      "source": [
        "# Compiling\n",
        "# from keras import optimizers\n",
        "\n",
        "# new_lr = 0.0001  # New learning rate\n",
        "# optimizer = optimizers.Adam(learning_rate = new_lr)  # Example optimizer (Adam) with a new learning rate\n",
        "\n",
        "model.compile(optimizer = 'adam', loss = 'mse')"
      ]
    },
    {
      "cell_type": "code",
      "execution_count": 26,
      "metadata": {
        "colab": {
          "base_uri": "https://localhost:8080/"
        },
        "id": "rQmkEljuRJ5K",
        "outputId": "13748e54-a8ce-4dbb-a851-8a10d0e5c6d5"
      },
      "outputs": [
        {
          "output_type": "stream",
          "name": "stdout",
          "text": [
            "Epoch 1/100\n",
            "272/272 [==============================] - 11s 11ms/step - loss: 0.0980 - val_loss: 0.0176\n",
            "Epoch 2/100\n",
            "272/272 [==============================] - 2s 9ms/step - loss: 0.0020 - val_loss: 0.0153\n",
            "Epoch 3/100\n",
            "272/272 [==============================] - 2s 7ms/step - loss: 0.0019 - val_loss: 0.0133\n",
            "Epoch 4/100\n",
            "272/272 [==============================] - 3s 12ms/step - loss: 0.0017 - val_loss: 0.0134\n",
            "Epoch 5/100\n",
            "272/272 [==============================] - 3s 9ms/step - loss: 0.0016 - val_loss: 0.0108\n",
            "Epoch 6/100\n",
            "272/272 [==============================] - 2s 9ms/step - loss: 0.0013 - val_loss: 0.0093\n",
            "Epoch 7/100\n",
            "272/272 [==============================] - 2s 8ms/step - loss: 9.5951e-04 - val_loss: 0.0065\n",
            "Epoch 8/100\n",
            "272/272 [==============================] - 2s 8ms/step - loss: 5.4276e-04 - val_loss: 0.0032\n",
            "Epoch 9/100\n",
            "272/272 [==============================] - 3s 10ms/step - loss: 2.4616e-04 - val_loss: 0.0012\n",
            "Epoch 10/100\n",
            "272/272 [==============================] - 3s 11ms/step - loss: 1.7859e-04 - val_loss: 8.1012e-04\n",
            "Epoch 11/100\n",
            "272/272 [==============================] - 2s 8ms/step - loss: 1.6312e-04 - val_loss: 5.1639e-04\n",
            "Epoch 12/100\n",
            "272/272 [==============================] - 2s 8ms/step - loss: 1.4129e-04 - val_loss: 4.1180e-04\n",
            "Epoch 13/100\n",
            "272/272 [==============================] - 2s 8ms/step - loss: 1.3010e-04 - val_loss: 3.4167e-04\n",
            "Epoch 14/100\n",
            "272/272 [==============================] - 2s 8ms/step - loss: 1.2072e-04 - val_loss: 1.8068e-04\n",
            "Epoch 15/100\n",
            "272/272 [==============================] - 3s 10ms/step - loss: 1.1294e-04 - val_loss: 2.0808e-04\n",
            "Epoch 16/100\n",
            "272/272 [==============================] - 3s 12ms/step - loss: 1.0752e-04 - val_loss: 1.2109e-04\n",
            "Epoch 17/100\n",
            "272/272 [==============================] - 2s 7ms/step - loss: 9.9064e-05 - val_loss: 1.0653e-04\n",
            "Epoch 18/100\n",
            "272/272 [==============================] - 2s 7ms/step - loss: 1.0193e-04 - val_loss: 7.7434e-05\n",
            "Epoch 19/100\n",
            "272/272 [==============================] - 2s 8ms/step - loss: 1.0215e-04 - val_loss: 1.1819e-04\n",
            "Epoch 20/100\n",
            "272/272 [==============================] - 2s 7ms/step - loss: 1.0168e-04 - val_loss: 9.5734e-05\n",
            "Epoch 21/100\n",
            "272/272 [==============================] - 2s 8ms/step - loss: 9.7360e-05 - val_loss: 6.4981e-05\n",
            "Epoch 22/100\n",
            "272/272 [==============================] - 3s 11ms/step - loss: 9.6521e-05 - val_loss: 1.4132e-04\n",
            "Epoch 23/100\n",
            "272/272 [==============================] - 2s 9ms/step - loss: 1.0098e-04 - val_loss: 5.9943e-05\n",
            "Epoch 24/100\n",
            "272/272 [==============================] - 2s 7ms/step - loss: 1.0211e-04 - val_loss: 5.8622e-05\n",
            "Epoch 25/100\n",
            "272/272 [==============================] - 2s 8ms/step - loss: 1.0113e-04 - val_loss: 6.0460e-05\n",
            "Epoch 26/100\n",
            "272/272 [==============================] - 2s 8ms/step - loss: 9.5288e-05 - val_loss: 6.7828e-05\n",
            "Epoch 27/100\n",
            "272/272 [==============================] - 2s 8ms/step - loss: 1.0340e-04 - val_loss: 5.6985e-05\n",
            "Epoch 28/100\n",
            "272/272 [==============================] - 3s 11ms/step - loss: 9.5077e-05 - val_loss: 5.4421e-05\n",
            "Epoch 29/100\n",
            "272/272 [==============================] - 3s 10ms/step - loss: 9.9879e-05 - val_loss: 1.1342e-04\n",
            "Epoch 30/100\n",
            "272/272 [==============================] - 2s 8ms/step - loss: 1.0038e-04 - val_loss: 6.3530e-05\n",
            "Epoch 31/100\n",
            "272/272 [==============================] - 2s 7ms/step - loss: 1.0676e-04 - val_loss: 5.7092e-05\n",
            "Epoch 32/100\n",
            "272/272 [==============================] - 2s 8ms/step - loss: 9.9113e-05 - val_loss: 5.5564e-05\n",
            "Epoch 33/100\n",
            "272/272 [==============================] - 2s 8ms/step - loss: 1.0299e-04 - val_loss: 5.2810e-05\n",
            "Epoch 34/100\n",
            "272/272 [==============================] - 4s 14ms/step - loss: 9.7347e-05 - val_loss: 5.1599e-05\n",
            "Epoch 35/100\n",
            "272/272 [==============================] - 3s 10ms/step - loss: 9.6994e-05 - val_loss: 5.1971e-05\n",
            "Epoch 36/100\n",
            "272/272 [==============================] - 2s 8ms/step - loss: 9.5628e-05 - val_loss: 7.2334e-05\n",
            "Epoch 37/100\n",
            "272/272 [==============================] - 3s 10ms/step - loss: 9.7580e-05 - val_loss: 5.4534e-05\n",
            "Epoch 38/100\n",
            "272/272 [==============================] - 2s 8ms/step - loss: 9.9665e-05 - val_loss: 4.8279e-05\n",
            "Epoch 39/100\n",
            "272/272 [==============================] - 2s 9ms/step - loss: 9.5720e-05 - val_loss: 4.8291e-05\n",
            "Epoch 40/100\n",
            "272/272 [==============================] - 3s 11ms/step - loss: 9.7911e-05 - val_loss: 5.3562e-05\n",
            "Epoch 41/100\n",
            "272/272 [==============================] - 2s 8ms/step - loss: 9.9222e-05 - val_loss: 4.7999e-05\n",
            "Epoch 42/100\n",
            "272/272 [==============================] - 2s 7ms/step - loss: 9.6164e-05 - val_loss: 5.0855e-05\n",
            "Epoch 43/100\n",
            "272/272 [==============================] - 2s 7ms/step - loss: 9.9739e-05 - val_loss: 7.0166e-05\n",
            "Epoch 44/100\n",
            "272/272 [==============================] - 3s 10ms/step - loss: 1.0072e-04 - val_loss: 6.8245e-05\n",
            "Epoch 45/100\n",
            "272/272 [==============================] - 3s 10ms/step - loss: 9.8131e-05 - val_loss: 4.6040e-05\n",
            "Epoch 46/100\n",
            "272/272 [==============================] - 3s 12ms/step - loss: 9.9374e-05 - val_loss: 4.5609e-05\n",
            "Epoch 47/100\n",
            "272/272 [==============================] - 3s 10ms/step - loss: 9.8896e-05 - val_loss: 4.6365e-05\n",
            "Epoch 48/100\n",
            "272/272 [==============================] - 2s 7ms/step - loss: 9.6507e-05 - val_loss: 4.7094e-05\n",
            "Epoch 49/100\n",
            "272/272 [==============================] - 2s 8ms/step - loss: 9.2483e-05 - val_loss: 9.2499e-05\n",
            "Epoch 50/100\n",
            "272/272 [==============================] - 2s 7ms/step - loss: 9.6917e-05 - val_loss: 4.4215e-05\n",
            "Epoch 51/100\n",
            "272/272 [==============================] - 3s 10ms/step - loss: 9.5331e-05 - val_loss: 5.2962e-05\n",
            "Epoch 52/100\n",
            "272/272 [==============================] - 3s 12ms/step - loss: 9.8043e-05 - val_loss: 4.7398e-05\n",
            "Epoch 53/100\n",
            "272/272 [==============================] - 2s 7ms/step - loss: 9.0639e-05 - val_loss: 1.0847e-04\n",
            "Epoch 54/100\n",
            "272/272 [==============================] - 2s 7ms/step - loss: 9.4178e-05 - val_loss: 6.4618e-05\n",
            "Epoch 55/100\n",
            "272/272 [==============================] - 2s 8ms/step - loss: 9.7484e-05 - val_loss: 4.3684e-05\n",
            "Epoch 56/100\n",
            "272/272 [==============================] - 2s 8ms/step - loss: 9.3154e-05 - val_loss: 5.3497e-05\n",
            "Epoch 57/100\n",
            "272/272 [==============================] - 2s 8ms/step - loss: 1.0137e-04 - val_loss: 5.0123e-05\n",
            "Epoch 58/100\n",
            "272/272 [==============================] - 3s 12ms/step - loss: 1.0063e-04 - val_loss: 4.3611e-05\n",
            "Epoch 59/100\n",
            "272/272 [==============================] - 2s 7ms/step - loss: 9.5847e-05 - val_loss: 4.3614e-05\n",
            "Epoch 60/100\n",
            "272/272 [==============================] - 2s 7ms/step - loss: 9.1017e-05 - val_loss: 5.1557e-05\n",
            "Epoch 61/100\n",
            "272/272 [==============================] - 2s 7ms/step - loss: 9.3722e-05 - val_loss: 4.2194e-05\n",
            "Epoch 62/100\n",
            "272/272 [==============================] - 2s 8ms/step - loss: 9.8137e-05 - val_loss: 7.6355e-05\n",
            "Epoch 63/100\n",
            "272/272 [==============================] - 2s 7ms/step - loss: 9.6071e-05 - val_loss: 4.9177e-05\n",
            "Epoch 64/100\n",
            "272/272 [==============================] - 3s 11ms/step - loss: 9.5118e-05 - val_loss: 4.2414e-05\n",
            "Epoch 65/100\n",
            "272/272 [==============================] - 3s 10ms/step - loss: 9.5157e-05 - val_loss: 4.9373e-05\n",
            "Epoch 66/100\n",
            "272/272 [==============================] - 2s 7ms/step - loss: 9.8970e-05 - val_loss: 5.0303e-05\n",
            "Epoch 67/100\n",
            "272/272 [==============================] - 2s 7ms/step - loss: 9.5175e-05 - val_loss: 5.5501e-05\n",
            "Epoch 68/100\n",
            "272/272 [==============================] - 2s 8ms/step - loss: 9.8689e-05 - val_loss: 4.2974e-05\n",
            "Epoch 69/100\n",
            "272/272 [==============================] - 2s 7ms/step - loss: 9.2864e-05 - val_loss: 4.3589e-05\n",
            "Epoch 70/100\n",
            "272/272 [==============================] - 3s 11ms/step - loss: 9.9316e-05 - val_loss: 4.2003e-05\n",
            "Epoch 71/100\n",
            "272/272 [==============================] - 3s 10ms/step - loss: 9.9728e-05 - val_loss: 4.1285e-05\n",
            "Epoch 72/100\n",
            "272/272 [==============================] - 2s 8ms/step - loss: 9.3246e-05 - val_loss: 5.4873e-05\n",
            "Epoch 73/100\n",
            "272/272 [==============================] - 2s 8ms/step - loss: 9.8307e-05 - val_loss: 4.2502e-05\n",
            "Epoch 74/100\n",
            "272/272 [==============================] - 2s 8ms/step - loss: 9.2516e-05 - val_loss: 1.0450e-04\n",
            "Epoch 75/100\n",
            "272/272 [==============================] - 2s 8ms/step - loss: 1.0584e-04 - val_loss: 4.6955e-05\n",
            "Epoch 76/100\n",
            "272/272 [==============================] - 3s 11ms/step - loss: 9.2625e-05 - val_loss: 5.4795e-05\n",
            "Epoch 77/100\n",
            "272/272 [==============================] - 3s 10ms/step - loss: 1.0084e-04 - val_loss: 4.1542e-05\n",
            "Epoch 78/100\n",
            "272/272 [==============================] - 2s 7ms/step - loss: 9.3470e-05 - val_loss: 4.2295e-05\n",
            "Epoch 79/100\n",
            "272/272 [==============================] - 2s 7ms/step - loss: 9.1032e-05 - val_loss: 4.4058e-05\n",
            "Epoch 80/100\n",
            "272/272 [==============================] - 2s 8ms/step - loss: 9.2621e-05 - val_loss: 7.5705e-05\n",
            "Epoch 81/100\n",
            "272/272 [==============================] - 2s 7ms/step - loss: 9.6544e-05 - val_loss: 4.2335e-05\n",
            "Epoch 82/100\n",
            "272/272 [==============================] - 2s 9ms/step - loss: 9.5845e-05 - val_loss: 4.0652e-05\n",
            "Epoch 83/100\n",
            "272/272 [==============================] - 3s 11ms/step - loss: 9.1032e-05 - val_loss: 4.2013e-05\n",
            "Epoch 84/100\n",
            "272/272 [==============================] - 2s 8ms/step - loss: 9.4146e-05 - val_loss: 4.1321e-05\n",
            "Epoch 85/100\n",
            "272/272 [==============================] - 2s 8ms/step - loss: 9.7313e-05 - val_loss: 4.0999e-05\n",
            "Epoch 86/100\n",
            "272/272 [==============================] - 2s 7ms/step - loss: 9.5665e-05 - val_loss: 5.3509e-05\n",
            "Epoch 87/100\n",
            "272/272 [==============================] - 2s 8ms/step - loss: 1.0051e-04 - val_loss: 4.0651e-05\n",
            "Epoch 88/100\n",
            "272/272 [==============================] - 2s 8ms/step - loss: 9.2732e-05 - val_loss: 4.1297e-05\n",
            "Epoch 89/100\n",
            "272/272 [==============================] - 3s 12ms/step - loss: 9.6143e-05 - val_loss: 7.9622e-05\n",
            "Epoch 90/100\n",
            "272/272 [==============================] - 2s 9ms/step - loss: 9.5586e-05 - val_loss: 4.1180e-05\n",
            "Epoch 91/100\n",
            "272/272 [==============================] - 2s 8ms/step - loss: 9.1769e-05 - val_loss: 4.2364e-05\n",
            "Epoch 92/100\n",
            "272/272 [==============================] - 2s 8ms/step - loss: 9.5615e-05 - val_loss: 9.7988e-05\n",
            "Epoch 93/100\n",
            "272/272 [==============================] - 2s 8ms/step - loss: 9.1489e-05 - val_loss: 5.2496e-05\n",
            "Epoch 94/100\n",
            "272/272 [==============================] - 2s 7ms/step - loss: 9.5807e-05 - val_loss: 4.0864e-05\n",
            "Epoch 95/100\n",
            "272/272 [==============================] - 3s 12ms/step - loss: 9.6513e-05 - val_loss: 4.0453e-05\n",
            "Epoch 96/100\n",
            "272/272 [==============================] - 3s 10ms/step - loss: 1.0078e-04 - val_loss: 4.1333e-05\n",
            "Epoch 97/100\n",
            "272/272 [==============================] - 2s 8ms/step - loss: 9.6438e-05 - val_loss: 7.0758e-05\n",
            "Epoch 98/100\n",
            "272/272 [==============================] - 2s 8ms/step - loss: 9.2558e-05 - val_loss: 4.1943e-05\n",
            "Epoch 99/100\n",
            "272/272 [==============================] - 2s 8ms/step - loss: 8.8930e-05 - val_loss: 4.1419e-05\n",
            "Epoch 100/100\n",
            "272/272 [==============================] - 2s 9ms/step - loss: 9.6093e-05 - val_loss: 4.3270e-05\n"
          ]
        }
      ],
      "source": [
        "# Training\n",
        "history = model.fit(x_train, y_train, epochs = 100, batch_size = 32, validation_data = (x_val, y_val))"
      ]
    },
    {
      "cell_type": "code",
      "execution_count": 27,
      "metadata": {
        "id": "j8m5nIe6FloV",
        "colab": {
          "base_uri": "https://localhost:8080/"
        },
        "outputId": "392b6e7e-59e7-4a32-ab8e-2d7357749c89"
      },
      "outputs": [
        {
          "output_type": "execute_result",
          "data": {
            "text/plain": [
              "[0.09799160808324814,\n",
              " 0.0020250724628567696,\n",
              " 0.0018649641424417496,\n",
              " 0.001723449444398284,\n",
              " 0.0015644547529518604,\n",
              " 0.001289065578021109,\n",
              " 0.000959506374783814,\n",
              " 0.0005427586729638278,\n",
              " 0.00024616342852823436,\n",
              " 0.00017859222134575248,\n",
              " 0.0001631159393582493,\n",
              " 0.00014129281044006348,\n",
              " 0.00013009992835577577,\n",
              " 0.00012072305980836973,\n",
              " 0.00011293892021058127,\n",
              " 0.00010752120579127222,\n",
              " 9.906382183544338e-05,\n",
              " 0.00010192870104219764,\n",
              " 0.00010215016664005816,\n",
              " 0.0001016760288621299,\n",
              " 9.735955245560035e-05,\n",
              " 9.652080916566774e-05,\n",
              " 0.00010097720223711804,\n",
              " 0.00010211217886535451,\n",
              " 0.00010113076132256538,\n",
              " 9.528826194582507e-05,\n",
              " 0.00010339802975067869,\n",
              " 9.507658251095563e-05,\n",
              " 9.987949306378141e-05,\n",
              " 0.00010038002801593393,\n",
              " 0.00010675568773876876,\n",
              " 9.91134875221178e-05,\n",
              " 0.00010298541747033596,\n",
              " 9.73473652265966e-05,\n",
              " 9.699373913463205e-05,\n",
              " 9.562795457895845e-05,\n",
              " 9.757981752045453e-05,\n",
              " 9.966455399990082e-05,\n",
              " 9.571960981702432e-05,\n",
              " 9.79107862804085e-05,\n",
              " 9.922195749823004e-05,\n",
              " 9.616382158128545e-05,\n",
              " 9.973863780032843e-05,\n",
              " 0.00010071913857245818,\n",
              " 9.813105134526268e-05,\n",
              " 9.937410504790023e-05,\n",
              " 9.88956744549796e-05,\n",
              " 9.650670108385384e-05,\n",
              " 9.248330752598122e-05,\n",
              " 9.691665036370978e-05,\n",
              " 9.533121919957921e-05,\n",
              " 9.80434415396303e-05,\n",
              " 9.063878678716719e-05,\n",
              " 9.417773253517225e-05,\n",
              " 9.748352022143081e-05,\n",
              " 9.315380884800106e-05,\n",
              " 0.00010137138451682404,\n",
              " 0.00010063357331091538,\n",
              " 9.584720100974664e-05,\n",
              " 9.101740579353645e-05,\n",
              " 9.372178465127945e-05,\n",
              " 9.813671931624413e-05,\n",
              " 9.607093670638278e-05,\n",
              " 9.511817916063592e-05,\n",
              " 9.515667625237256e-05,\n",
              " 9.896991832647473e-05,\n",
              " 9.517519356450066e-05,\n",
              " 9.868935740087181e-05,\n",
              " 9.286437853006646e-05,\n",
              " 9.931620297720656e-05,\n",
              " 9.972750558517873e-05,\n",
              " 9.324582060799003e-05,\n",
              " 9.83067657216452e-05,\n",
              " 9.251641313312575e-05,\n",
              " 0.00010583962284727022,\n",
              " 9.262510138796642e-05,\n",
              " 0.00010083783126901835,\n",
              " 9.347030572826043e-05,\n",
              " 9.103219053940848e-05,\n",
              " 9.262107778340578e-05,\n",
              " 9.654355380916968e-05,\n",
              " 9.584496001480147e-05,\n",
              " 9.10323578864336e-05,\n",
              " 9.414578380528837e-05,\n",
              " 9.731335012475029e-05,\n",
              " 9.566469816491008e-05,\n",
              " 0.00010051235585706308,\n",
              " 9.273178147850558e-05,\n",
              " 9.614313603378832e-05,\n",
              " 9.558568854117766e-05,\n",
              " 9.176924504572526e-05,\n",
              " 9.561460319673643e-05,\n",
              " 9.148949175141752e-05,\n",
              " 9.580749610904604e-05,\n",
              " 9.651260188547894e-05,\n",
              " 0.00010077573824673891,\n",
              " 9.643758676247671e-05,\n",
              " 9.255781333195046e-05,\n",
              " 8.892957703210413e-05,\n",
              " 9.609281551092863e-05]"
            ]
          },
          "metadata": {},
          "execution_count": 27
        }
      ],
      "source": [
        "history.history[\"loss\"]"
      ]
    },
    {
      "cell_type": "code",
      "execution_count": 28,
      "metadata": {
        "id": "W0NpJaSLRNuR",
        "colab": {
          "base_uri": "https://localhost:8080/"
        },
        "outputId": "c597c7fe-567c-4a70-f8f0-8cbb17ac297b"
      },
      "outputs": [
        {
          "output_type": "execute_result",
          "data": {
            "text/plain": [
              "array([0.96026703])"
            ]
          },
          "metadata": {},
          "execution_count": 28
        }
      ],
      "source": [
        "# Prediction using the trained model\n",
        "scaler.scale_"
      ]
    },
    {
      "cell_type": "code",
      "execution_count": 29,
      "metadata": {
        "id": "onJFn6KyRQfa",
        "colab": {
          "base_uri": "https://localhost:8080/"
        },
        "outputId": "093e867f-84a5-42ef-daf6-92748cce233d"
      },
      "outputs": [
        {
          "output_type": "stream",
          "name": "stdout",
          "text": [
            "34/34 [==============================] - 1s 5ms/step\n",
            "[[1.3388588]\n",
            " [1.3361464]\n",
            " [1.3311847]\n",
            " [1.3315426]\n",
            " [1.3315426]\n",
            " [1.3353997]\n",
            " [1.3402369]\n",
            " [1.3356124]\n",
            " [1.3504949]\n",
            " [1.3488629]]\n"
          ]
        }
      ],
      "source": [
        "y_pred = model.predict(x_test)\n",
        "y_pred = scaler.inverse_transform(y_pred)\n",
        "print(y_pred[:10])"
      ]
    },
    {
      "cell_type": "code",
      "execution_count": 30,
      "metadata": {
        "id": "eyfbYKohRUVB",
        "colab": {
          "base_uri": "https://localhost:8080/"
        },
        "outputId": "31f1d330-c1a3-4c5f-a0c3-3fb82d8cf240"
      },
      "outputs": [
        {
          "output_type": "stream",
          "name": "stdout",
          "text": [
            "[[1.335265]\n",
            " [1.330291]\n",
            " [1.33065 ]\n",
            " [1.33065 ]\n",
            " [1.334517]\n",
            " [1.33936 ]\n",
            " [1.33473 ]\n",
            " [1.34961 ]\n",
            " [1.347981]\n",
            " [1.34395 ]]\n"
          ]
        }
      ],
      "source": [
        "# Processing test shape\n",
        "y_test = np.array(y_test).reshape(-1, 1)\n",
        "y_test = scaler.inverse_transform(y_test)\n",
        "print(y_test[:10])"
      ]
    },
    {
      "cell_type": "code",
      "execution_count": 39,
      "metadata": {
        "id": "Ly_SbnZ3RZxS",
        "colab": {
          "base_uri": "https://localhost:8080/",
          "height": 485
        },
        "outputId": "f395a6ee-899f-40f8-a1a9-6e7725c61d32"
      },
      "outputs": [
        {
          "output_type": "execute_result",
          "data": {
            "text/plain": [
              "<matplotlib.legend.Legend at 0x79eb97917910>"
            ]
          },
          "metadata": {},
          "execution_count": 39
        },
        {
          "output_type": "display_data",
          "data": {
            "text/plain": [
              "<Figure size 1000x500 with 1 Axes>"
            ],
            "image/png": "[encoded data removed]"
          },
          "metadata": {}
        }
      ],
      "source": [
        "# Visualizing the results\n",
        "plt.figure(figsize=(10,5))\n",
        "plt.title('Foreign Exchange Rate of UK (LTSM)')\n",
        "plt.plot(y_test , label = 'Actual', color = 'g')\n",
        "plt.plot(y_pred , label = 'Predicted', color = 'r')\n",
        "plt.legend()"
      ]
    },
    {
      "cell_type": "code",
      "execution_count": 32,
      "metadata": {
        "id": "mM6fn5-CokFc",
        "colab": {
          "base_uri": "https://localhost:8080/"
        },
        "outputId": "d78b8c8d-2fda-44bb-d388-022d90ea1932"
      },
      "outputs": [
        {
          "output_type": "execute_result",
          "data": {
            "text/plain": [
              "0.00022765428137788837"
            ]
          },
          "metadata": {},
          "execution_count": 32
        }
      ],
      "source": [
        "from sklearn.metrics import mean_squared_error, r2_score\n",
        "mean_squared_error(y_test, y_pred)"
      ]
    },
    {
      "cell_type": "code",
      "execution_count": 33,
      "metadata": {
        "id": "kGwNP4Lh-xdq"
      },
      "outputs": [],
      "source": [
        "from keras.layers import Flatten\n",
        "\n",
        "# Building the DNN model\n",
        "model_dnn = Sequential()\n",
        "model_dnn.add(Flatten(input_shape=(1, 1)))\n",
        "model_dnn.add(Dense(128, activation='relu'))  # Layer 1\n",
        "model_dnn.add(Dense(64, activation='relu'))   # Layer 2\n",
        "model_dnn.add(Dense(32, activation='relu'))   # Layer 3\n",
        "model_dnn.add(Dense(16, activation='relu'))   # Layer 4\n",
        "model_dnn.add(Dense(8, activation='relu'))    # Layer 5\n",
        "model_dnn.add(Dense(1))"
      ]
    },
    {
      "cell_type": "code",
      "execution_count": 34,
      "metadata": {
        "colab": {
          "base_uri": "https://localhost:8080/"
        },
        "id": "mSXhD6PIAavj",
        "outputId": "78331c7c-3c2a-44d5-8ad9-f13a3d5f3f43"
      },
      "outputs": [
        {
          "output_type": "stream",
          "name": "stdout",
          "text": [
            "Epoch 1/100\n",
            "272/272 [==============================] - 2s 3ms/step - loss: 0.0275 - val_loss: 1.1008e-04\n",
            "Epoch 2/100\n",
            "272/272 [==============================] - 1s 3ms/step - loss: 8.6109e-05 - val_loss: 3.7110e-05\n",
            "Epoch 3/100\n",
            "272/272 [==============================] - 1s 2ms/step - loss: 8.6266e-05 - val_loss: 3.7722e-05\n",
            "Epoch 4/100\n",
            "272/272 [==============================] - 1s 2ms/step - loss: 8.5581e-05 - val_loss: 3.7866e-05\n",
            "Epoch 5/100\n",
            "272/272 [==============================] - 1s 2ms/step - loss: 8.7325e-05 - val_loss: 3.6862e-05\n",
            "Epoch 6/100\n",
            "272/272 [==============================] - 1s 2ms/step - loss: 8.9720e-05 - val_loss: 4.0207e-05\n",
            "Epoch 7/100\n",
            "272/272 [==============================] - 1s 2ms/step - loss: 8.7427e-05 - val_loss: 3.7097e-05\n",
            "Epoch 8/100\n",
            "272/272 [==============================] - 1s 2ms/step - loss: 9.0477e-05 - val_loss: 5.5400e-05\n",
            "Epoch 9/100\n",
            "272/272 [==============================] - 1s 2ms/step - loss: 9.8308e-05 - val_loss: 3.7197e-05\n",
            "Epoch 10/100\n",
            "272/272 [==============================] - 1s 2ms/step - loss: 8.8260e-05 - val_loss: 4.0892e-05\n",
            "Epoch 11/100\n",
            "272/272 [==============================] - 1s 2ms/step - loss: 9.4042e-05 - val_loss: 3.7254e-05\n",
            "Epoch 12/100\n",
            "272/272 [==============================] - 1s 3ms/step - loss: 9.2522e-05 - val_loss: 5.1906e-05\n",
            "Epoch 13/100\n",
            "272/272 [==============================] - 1s 2ms/step - loss: 9.6050e-05 - val_loss: 3.9596e-05\n",
            "Epoch 14/100\n",
            "272/272 [==============================] - 1s 3ms/step - loss: 1.0230e-04 - val_loss: 3.7588e-05\n",
            "Epoch 15/100\n",
            "272/272 [==============================] - 1s 4ms/step - loss: 9.4339e-05 - val_loss: 4.2307e-05\n",
            "Epoch 16/100\n",
            "272/272 [==============================] - 1s 4ms/step - loss: 1.0701e-04 - val_loss: 4.8580e-05\n",
            "Epoch 17/100\n",
            "272/272 [==============================] - 1s 4ms/step - loss: 1.0032e-04 - val_loss: 4.5973e-05\n",
            "Epoch 18/100\n",
            "272/272 [==============================] - 1s 3ms/step - loss: 1.0883e-04 - val_loss: 3.9494e-05\n",
            "Epoch 19/100\n",
            "272/272 [==============================] - 1s 2ms/step - loss: 1.0498e-04 - val_loss: 5.9164e-05\n",
            "Epoch 20/100\n",
            "272/272 [==============================] - 1s 2ms/step - loss: 1.0176e-04 - val_loss: 4.8474e-05\n",
            "Epoch 21/100\n",
            "272/272 [==============================] - 1s 2ms/step - loss: 9.6706e-05 - val_loss: 5.7644e-05\n",
            "Epoch 22/100\n",
            "272/272 [==============================] - 1s 2ms/step - loss: 1.0031e-04 - val_loss: 9.1118e-05\n",
            "Epoch 23/100\n",
            "272/272 [==============================] - 1s 2ms/step - loss: 9.6903e-05 - val_loss: 4.5573e-05\n",
            "Epoch 24/100\n",
            "272/272 [==============================] - 1s 2ms/step - loss: 1.0118e-04 - val_loss: 4.0643e-05\n",
            "Epoch 25/100\n",
            "272/272 [==============================] - 1s 2ms/step - loss: 1.0055e-04 - val_loss: 5.0428e-05\n",
            "Epoch 26/100\n",
            "272/272 [==============================] - 1s 2ms/step - loss: 9.9336e-05 - val_loss: 9.9120e-05\n",
            "Epoch 27/100\n",
            "272/272 [==============================] - 1s 2ms/step - loss: 1.0296e-04 - val_loss: 4.2917e-05\n",
            "Epoch 28/100\n",
            "272/272 [==============================] - 1s 2ms/step - loss: 9.5369e-05 - val_loss: 4.5050e-05\n",
            "Epoch 29/100\n",
            "272/272 [==============================] - 1s 2ms/step - loss: 1.0093e-04 - val_loss: 4.5946e-05\n",
            "Epoch 30/100\n",
            "272/272 [==============================] - 1s 2ms/step - loss: 1.0522e-04 - val_loss: 7.3386e-05\n",
            "Epoch 31/100\n",
            "272/272 [==============================] - 1s 2ms/step - loss: 1.0434e-04 - val_loss: 4.4060e-05\n",
            "Epoch 32/100\n",
            "272/272 [==============================] - 1s 2ms/step - loss: 9.8245e-05 - val_loss: 8.5873e-05\n",
            "Epoch 33/100\n",
            "272/272 [==============================] - 1s 3ms/step - loss: 9.8012e-05 - val_loss: 4.4380e-05\n",
            "Epoch 34/100\n",
            "272/272 [==============================] - 1s 4ms/step - loss: 1.0718e-04 - val_loss: 6.9466e-05\n",
            "Epoch 35/100\n",
            "272/272 [==============================] - 1s 4ms/step - loss: 1.0082e-04 - val_loss: 5.0984e-05\n",
            "Epoch 36/100\n",
            "272/272 [==============================] - 1s 4ms/step - loss: 9.8069e-05 - val_loss: 4.5695e-05\n",
            "Epoch 37/100\n",
            "272/272 [==============================] - 1s 3ms/step - loss: 9.7134e-05 - val_loss: 4.5900e-05\n",
            "Epoch 38/100\n",
            "272/272 [==============================] - 1s 2ms/step - loss: 1.0101e-04 - val_loss: 4.6616e-05\n",
            "Epoch 39/100\n",
            "272/272 [==============================] - 1s 2ms/step - loss: 9.3254e-05 - val_loss: 4.7717e-05\n",
            "Epoch 40/100\n",
            "272/272 [==============================] - 1s 3ms/step - loss: 9.6971e-05 - val_loss: 5.4109e-05\n",
            "Epoch 41/100\n",
            "272/272 [==============================] - 1s 3ms/step - loss: 1.0157e-04 - val_loss: 4.9199e-05\n",
            "Epoch 42/100\n",
            "272/272 [==============================] - 1s 2ms/step - loss: 1.0107e-04 - val_loss: 5.3432e-05\n",
            "Epoch 43/100\n",
            "272/272 [==============================] - 1s 2ms/step - loss: 1.0307e-04 - val_loss: 4.9109e-05\n",
            "Epoch 44/100\n",
            "272/272 [==============================] - 1s 3ms/step - loss: 9.8068e-05 - val_loss: 6.1069e-05\n",
            "Epoch 45/100\n",
            "272/272 [==============================] - 1s 3ms/step - loss: 1.0078e-04 - val_loss: 5.2239e-05\n",
            "Epoch 46/100\n",
            "272/272 [==============================] - 1s 2ms/step - loss: 9.9883e-05 - val_loss: 5.1658e-05\n",
            "Epoch 47/100\n",
            "272/272 [==============================] - 1s 2ms/step - loss: 1.0605e-04 - val_loss: 5.2454e-05\n",
            "Epoch 48/100\n",
            "272/272 [==============================] - 1s 2ms/step - loss: 9.5777e-05 - val_loss: 5.6115e-05\n",
            "Epoch 49/100\n",
            "272/272 [==============================] - 1s 2ms/step - loss: 9.2211e-05 - val_loss: 1.3776e-04\n",
            "Epoch 50/100\n",
            "272/272 [==============================] - 1s 2ms/step - loss: 9.7187e-05 - val_loss: 5.4698e-05\n",
            "Epoch 51/100\n",
            "272/272 [==============================] - 1s 2ms/step - loss: 9.9101e-05 - val_loss: 5.4936e-05\n",
            "Epoch 52/100\n",
            "272/272 [==============================] - 1s 4ms/step - loss: 9.9553e-05 - val_loss: 5.4369e-05\n",
            "Epoch 53/100\n",
            "272/272 [==============================] - 1s 4ms/step - loss: 9.3561e-05 - val_loss: 1.0318e-04\n",
            "Epoch 54/100\n",
            "272/272 [==============================] - 1s 4ms/step - loss: 9.5051e-05 - val_loss: 1.1568e-04\n",
            "Epoch 55/100\n",
            "272/272 [==============================] - 1s 4ms/step - loss: 9.9461e-05 - val_loss: 6.4248e-05\n",
            "Epoch 56/100\n",
            "272/272 [==============================] - 1s 3ms/step - loss: 9.3605e-05 - val_loss: 6.3546e-05\n",
            "Epoch 57/100\n",
            "272/272 [==============================] - 1s 2ms/step - loss: 1.1115e-04 - val_loss: 7.0656e-05\n",
            "Epoch 58/100\n",
            "272/272 [==============================] - 1s 3ms/step - loss: 1.0387e-04 - val_loss: 6.6405e-05\n",
            "Epoch 59/100\n",
            "272/272 [==============================] - 1s 2ms/step - loss: 9.8072e-05 - val_loss: 7.0112e-05\n",
            "Epoch 60/100\n",
            "272/272 [==============================] - 1s 3ms/step - loss: 9.2514e-05 - val_loss: 5.5729e-05\n",
            "Epoch 61/100\n",
            "272/272 [==============================] - 1s 2ms/step - loss: 9.4362e-05 - val_loss: 5.6032e-05\n",
            "Epoch 62/100\n",
            "272/272 [==============================] - 1s 2ms/step - loss: 9.7372e-05 - val_loss: 6.1192e-05\n",
            "Epoch 63/100\n",
            "272/272 [==============================] - 1s 3ms/step - loss: 9.4831e-05 - val_loss: 6.6139e-05\n",
            "Epoch 64/100\n",
            "272/272 [==============================] - 1s 3ms/step - loss: 1.0298e-04 - val_loss: 5.8836e-05\n",
            "Epoch 65/100\n",
            "272/272 [==============================] - 1s 2ms/step - loss: 9.6158e-05 - val_loss: 5.8997e-05\n",
            "Epoch 66/100\n",
            "272/272 [==============================] - 1s 2ms/step - loss: 9.8826e-05 - val_loss: 5.8267e-05\n",
            "Epoch 67/100\n",
            "272/272 [==============================] - 1s 2ms/step - loss: 1.0072e-04 - val_loss: 5.9707e-05\n",
            "Epoch 68/100\n",
            "272/272 [==============================] - 1s 2ms/step - loss: 9.7096e-05 - val_loss: 6.1604e-05\n",
            "Epoch 69/100\n",
            "272/272 [==============================] - 1s 3ms/step - loss: 9.7010e-05 - val_loss: 8.9041e-05\n",
            "Epoch 70/100\n",
            "272/272 [==============================] - 1s 2ms/step - loss: 9.8966e-05 - val_loss: 5.9284e-05\n",
            "Epoch 71/100\n",
            "272/272 [==============================] - 1s 4ms/step - loss: 1.0420e-04 - val_loss: 6.4378e-05\n",
            "Epoch 72/100\n",
            "272/272 [==============================] - 1s 4ms/step - loss: 9.3956e-05 - val_loss: 5.8134e-05\n",
            "Epoch 73/100\n",
            "272/272 [==============================] - 1s 4ms/step - loss: 9.9680e-05 - val_loss: 5.8753e-05\n",
            "Epoch 74/100\n",
            "272/272 [==============================] - 1s 4ms/step - loss: 9.4284e-05 - val_loss: 1.3053e-04\n",
            "Epoch 75/100\n",
            "272/272 [==============================] - 1s 3ms/step - loss: 1.0754e-04 - val_loss: 6.0061e-05\n",
            "Epoch 76/100\n",
            "272/272 [==============================] - 1s 3ms/step - loss: 9.5428e-05 - val_loss: 7.2871e-05\n",
            "Epoch 77/100\n",
            "272/272 [==============================] - 1s 2ms/step - loss: 9.1061e-05 - val_loss: 5.8232e-05\n",
            "Epoch 78/100\n",
            "272/272 [==============================] - 1s 3ms/step - loss: 9.1812e-05 - val_loss: 6.4731e-05\n",
            "Epoch 79/100\n",
            "272/272 [==============================] - 1s 3ms/step - loss: 9.2428e-05 - val_loss: 7.1371e-05\n",
            "Epoch 80/100\n",
            "272/272 [==============================] - 1s 3ms/step - loss: 9.2362e-05 - val_loss: 5.9250e-05\n",
            "Epoch 81/100\n",
            "272/272 [==============================] - 1s 2ms/step - loss: 9.7559e-05 - val_loss: 8.1509e-05\n",
            "Epoch 82/100\n",
            "272/272 [==============================] - 1s 3ms/step - loss: 1.0635e-04 - val_loss: 7.7586e-05\n",
            "Epoch 83/100\n",
            "272/272 [==============================] - 1s 2ms/step - loss: 9.5863e-05 - val_loss: 7.5898e-05\n",
            "Epoch 84/100\n",
            "272/272 [==============================] - 1s 2ms/step - loss: 9.6088e-05 - val_loss: 5.8634e-05\n",
            "Epoch 85/100\n",
            "272/272 [==============================] - 1s 2ms/step - loss: 9.9672e-05 - val_loss: 6.1049e-05\n",
            "Epoch 86/100\n",
            "272/272 [==============================] - 1s 2ms/step - loss: 9.3759e-05 - val_loss: 5.9718e-05\n",
            "Epoch 87/100\n",
            "272/272 [==============================] - 1s 2ms/step - loss: 1.0309e-04 - val_loss: 5.9007e-05\n",
            "Epoch 88/100\n",
            "272/272 [==============================] - 1s 2ms/step - loss: 9.8970e-05 - val_loss: 6.2234e-05\n",
            "Epoch 89/100\n",
            "272/272 [==============================] - 1s 3ms/step - loss: 9.3836e-05 - val_loss: 1.4486e-04\n",
            "Epoch 90/100\n",
            "272/272 [==============================] - 1s 4ms/step - loss: 9.9088e-05 - val_loss: 6.1243e-05\n",
            "Epoch 91/100\n",
            "272/272 [==============================] - 1s 4ms/step - loss: 9.1909e-05 - val_loss: 5.7110e-05\n",
            "Epoch 92/100\n",
            "272/272 [==============================] - 1s 4ms/step - loss: 1.0106e-04 - val_loss: 1.0855e-04\n",
            "Epoch 93/100\n",
            "272/272 [==============================] - 1s 3ms/step - loss: 9.2365e-05 - val_loss: 6.4470e-05\n",
            "Epoch 94/100\n",
            "272/272 [==============================] - 1s 2ms/step - loss: 9.7224e-05 - val_loss: 6.4839e-05\n",
            "Epoch 95/100\n",
            "272/272 [==============================] - 1s 2ms/step - loss: 9.7281e-05 - val_loss: 7.1179e-05\n",
            "Epoch 96/100\n",
            "272/272 [==============================] - 1s 3ms/step - loss: 9.4765e-05 - val_loss: 7.5540e-05\n",
            "Epoch 97/100\n",
            "272/272 [==============================] - 1s 2ms/step - loss: 1.0048e-04 - val_loss: 8.0833e-05\n",
            "Epoch 98/100\n",
            "272/272 [==============================] - 1s 2ms/step - loss: 9.6776e-05 - val_loss: 5.9153e-05\n",
            "Epoch 99/100\n",
            "272/272 [==============================] - 1s 2ms/step - loss: 9.2701e-05 - val_loss: 5.6843e-05\n",
            "Epoch 100/100\n",
            "272/272 [==============================] - 1s 2ms/step - loss: 1.0265e-04 - val_loss: 6.8163e-05\n"
          ]
        },
        {
          "output_type": "execute_result",
          "data": {
            "text/plain": [
              "<keras.src.callbacks.History at 0x79eb97ebe380>"
            ]
          },
          "metadata": {},
          "execution_count": 34
        }
      ],
      "source": [
        "# Compiling the DNN model\n",
        "model_dnn.compile(optimizer = 'adam', loss = 'mse')\n",
        "\n",
        "# Training the DNN model\n",
        "model_dnn.fit(x_train, y_train, epochs = 100, batch_size = 32, validation_data = (x_val, y_val))"
      ]
    },
    {
      "cell_type": "code",
      "execution_count": 35,
      "metadata": {
        "id": "m1FaWOk2Ad7s",
        "colab": {
          "base_uri": "https://localhost:8080/"
        },
        "outputId": "80c6a8f3-783b-42ec-d6c6-21d6da08ca70"
      },
      "outputs": [
        {
          "output_type": "stream",
          "name": "stdout",
          "text": [
            "34/34 [==============================] - 0s 1ms/step\n",
            "[[1.3376985]\n",
            " [1.3352953]\n",
            " [1.3314946]\n",
            " [1.3317684]\n",
            " [1.3317684]\n",
            " [1.3347191]\n",
            " [1.3389726]\n",
            " [1.3348815]\n",
            " [1.3484503]\n",
            " [1.3469437]]\n"
          ]
        }
      ],
      "source": [
        "# Making predictions using the DNN model\n",
        "y_pred_dnn = model_dnn.predict(x_test)\n",
        "y_pred_dnn = scaler.inverse_transform(y_pred_dnn)\n",
        "print(y_pred_dnn[:10])"
      ]
    },
    {
      "cell_type": "code",
      "execution_count": 38,
      "metadata": {
        "id": "OLhwGTsqAkH9",
        "colab": {
          "base_uri": "https://localhost:8080/",
          "height": 485
        },
        "outputId": "4775942d-bb00-45a6-fb9f-bdc19422eb45"
      },
      "outputs": [
        {
          "output_type": "execute_result",
          "data": {
            "text/plain": [
              "<matplotlib.legend.Legend at 0x79eb979c4910>"
            ]
          },
          "metadata": {},
          "execution_count": 38
        },
        {
          "output_type": "display_data",
          "data": {
            "text/plain": [
              "<Figure size 1000x500 with 1 Axes>"
            ],
            "image/png": "[encoded data removed]"
          },
          "metadata": {}
        }
      ],
      "source": [
        "# Visualizing the results\n",
        "plt.figure(figsize=(10,5))\n",
        "plt.title('Foreign Exchange Rate of UK (DNN)')\n",
        "plt.plot(y_test , label = 'Actual', color = 'g')\n",
        "plt.plot(y_pred_dnn , label = 'Predicted', color = 'r')\n",
        "plt.legend()"
      ]
    },
    {
      "cell_type": "code",
      "execution_count": 37,
      "metadata": {
        "id": "itRv3Hl4AghD",
        "colab": {
          "base_uri": "https://localhost:8080/"
        },
        "outputId": "c4d73a8a-2bfd-4f8a-cbfd-abed37ad670b"
      },
      "outputs": [
        {
          "output_type": "stream",
          "name": "stdout",
          "text": [
            "LSTM Model:\n",
            "MSE: 0.00022765428137788837\n",
            "RMSE: 0.015088216640076731\n",
            "R-squared: 0.9645630235210961\n",
            "\n",
            "DNN Model:\n",
            "MSE: 0.0007256897578141481\n",
            "RMSE: 0.026938629471711214\n",
            "R-squared: 0.8870381408028323\n"
          ]
        }
      ],
      "source": [
        "# Calculating metrics for LSTM model\n",
        "mse_lstm = mean_squared_error(y_test, y_pred)\n",
        "rmse_lstm = np.sqrt(mse_lstm)  # Calculate RMSE using MSE\n",
        "r2_lstm = r2_score(y_test, y_pred)\n",
        "\n",
        "print(\"LSTM Model:\")\n",
        "print(f\"MSE: {mse_lstm}\")\n",
        "print(f\"RMSE: {rmse_lstm}\")\n",
        "print(f\"R-squared: {r2_lstm}\")\n",
        "\n",
        "# Calculating metrics for DNN model\n",
        "mse_dnn = mean_squared_error(y_test, y_pred_dnn)\n",
        "rmse_dnn = np.sqrt(mse_dnn)  # Calculate RMSE using MSE\n",
        "r2_dnn = r2_score(y_test, y_pred_dnn)\n",
        "\n",
        "print(\"\\nDNN Model:\")\n",
        "print(f\"MSE: {mse_dnn}\")\n",
        "print(f\"RMSE: {rmse_dnn}\")\n",
        "print(f\"R-squared: {r2_dnn}\")"
      ]
    },
    {
      "cell_type": "code",
      "execution_count": 63,
      "metadata": {
        "id": "rsl5OeIqgmVx"
      },
      "outputs": [],
      "source": [
        "# latest_data_point = data_set['High'].iloc[-1]\n",
        "# latest_data_point_scaled = scaler.transform(np.array(latest_data_point).reshape(-1, 1))\n",
        "# latest_data_point_scaled = latest_data_point_scaled.reshape(1, 1, 1)\n",
        "# # Predict using the LSTM model\n",
        "# next_day_pred_lstm = model.predict(latest_data_point_scaled)\n",
        "# next_day_pred_lstm = scaler.inverse_transform(next_day_pred_lstm)\n",
        "\n",
        "# # Predict using the DNN model\n",
        "# next_day_pred_dnn = model_dnn.predict(latest_data_point_scaled)\n",
        "# next_day_pred_dnn = scaler.inverse_transform(next_day_pred_dnn)"
      ]
    },
    {
      "cell_type": "code",
      "execution_count": 64,
      "metadata": {
        "id": "qNo9WbHigxwh"
      },
      "outputs": [],
      "source": [
        "# print(\"Predicted exchange rate using LSTM model for the next day:\", next_day_pred_lstm[0][0])\n",
        "# print(\"Predicted exchange rate using DNN model for the next day:\", next_day_pred_dnn[0][0])"
      ]
    },
    {
      "cell_type": "code",
      "execution_count": 56,
      "metadata": {
        "id": "a4e_6rK8hNGg"
      },
      "outputs": [],
      "source": [
        "# Number of days to predict\n",
        "num_days = 7\n",
        "\n",
        "last_date = data_set['Date'].iloc[-1]\n",
        "\n",
        "# Get the latest data point\n",
        "latest_data_point = data_set['High'].iloc[-1]\n",
        "\n",
        "# Reshape and scale the latest data point\n",
        "latest_data_point_scaled_lstm = scaler.transform(np.array(latest_data_point).reshape(-1, 1))\n",
        "latest_data_point_scaled_lstm = latest_data_point_scaled_lstm.reshape(1, 1, 1)\n",
        "\n",
        "latest_data_point_scaled_dnn = scaler.transform(np.array(latest_data_point).reshape(-1, 1))\n",
        "latest_data_point_scaled_dnn = latest_data_point_scaled_dnn.reshape(1, 1, 1)\n",
        "\n",
        "# Lists to store predicted values and dates for each day using both models\n",
        "predictions_lstm = []\n",
        "dates_lstm = []\n",
        "predictions_dnn = []\n",
        "dates_dnn = []"
      ]
    },
    {
      "cell_type": "code",
      "execution_count": 61,
      "metadata": {
        "id": "lUwbNsvEhN8N",
        "colab": {
          "base_uri": "https://localhost:8080/"
        },
        "outputId": "c5921fbc-f225-415d-8a19-198e2bf5963a"
      },
      "outputs": [
        {
          "output_type": "stream",
          "name": "stdout",
          "text": [
            "1/1 [==============================] - 0s 39ms/step\n",
            "1/1 [==============================] - 0s 48ms/step\n",
            "1/1 [==============================] - 0s 29ms/step\n",
            "1/1 [==============================] - 0s 36ms/step\n",
            "1/1 [==============================] - 0s 40ms/step\n",
            "1/1 [==============================] - 0s 22ms/step\n",
            "1/1 [==============================] - 0s 24ms/step\n",
            "1/1 [==============================] - 0s 22ms/step\n",
            "1/1 [==============================] - 0s 23ms/step\n",
            "1/1 [==============================] - 0s 57ms/step\n",
            "1/1 [==============================] - 0s 78ms/step\n",
            "1/1 [==============================] - 0s 35ms/step\n",
            "1/1 [==============================] - 0s 97ms/step\n",
            "1/1 [==============================] - 0s 34ms/step\n"
          ]
        }
      ],
      "source": [
        "for i in range(num_days):\n",
        "    # Predict using the LSTM model\n",
        "    next_day_pred_lstm = model.predict(latest_data_point_scaled_lstm)\n",
        "    next_day_pred_lstm = scaler.inverse_transform(next_day_pred_lstm)\n",
        "    predictions_lstm.append(next_day_pred_lstm[0][0])\n",
        "\n",
        "    # Generate date for the next LSTM prediction\n",
        "    last_date = pd.to_datetime(last_date) + pd.DateOffset(days=1)\n",
        "    dates_lstm.append(last_date)\n",
        "\n",
        "    # Update the latest_data_point_scaled for the next day's prediction using the LSTM predicted value\n",
        "    latest_data_point_scaled_lstm = np.array([next_day_pred_lstm]).reshape(1, 1, 1)\n",
        "\n",
        "    # Use the LSTM predicted value as the latest_data_point_scaled for the next DNN prediction\n",
        "    latest_data_point_scaled_dnn = scaler.transform(np.array(next_day_pred_lstm).reshape(-1, 1))\n",
        "    latest_data_point_scaled_dnn = latest_data_point_scaled_dnn.reshape(1, 1, 1)\n",
        "\n",
        "    # Predict using the DNN model\n",
        "    next_day_pred_dnn = model_dnn.predict(latest_data_point_scaled_dnn)\n",
        "    next_day_pred_dnn = scaler.inverse_transform(next_day_pred_dnn)\n",
        "    predictions_dnn.append(next_day_pred_dnn[0][0])\n",
        "\n",
        "    # Generate date for the next DNN prediction\n",
        "    last_date = pd.to_datetime(last_date) + pd.DateOffset(days=1)\n",
        "    dates_dnn.append(last_date)\n",
        "\n",
        "    # Use the DNN predicted value as the latest_data_point_scaled for the next LSTM prediction\n",
        "    latest_data_point_scaled_lstm = scaler.transform(np.array(next_day_pred_dnn).reshape(-1, 1))\n",
        "    latest_data_point_scaled_lstm = latest_data_point_scaled_lstm.reshape(1, 1, 1)"
      ]
    },
    {
      "cell_type": "code",
      "execution_count": 65,
      "metadata": {
        "id": "4oDxIVY6hPd1",
        "colab": {
          "base_uri": "https://localhost:8080/"
        },
        "outputId": "0c69e38a-752b-442f-f0d9-7abdf7a7a09a"
      },
      "outputs": [
        {
          "output_type": "stream",
          "name": "stdout",
          "text": [
            "Predicted exchange rates for the next week (using LSTM model):\n",
            "Date: 2023-12-01, Prediction: £1.00 = $1.27\n",
            "Date: 2023-12-03, Prediction: £1.00 = $1.27\n",
            "Date: 2023-12-05, Prediction: £1.00 = $1.28\n",
            "Date: 2023-12-07, Prediction: £1.00 = $1.28\n",
            "Date: 2023-12-09, Prediction: £1.00 = $1.29\n",
            "Date: 2023-12-11, Prediction: £1.00 = $1.29\n",
            "Date: 2023-12-13, Prediction: £1.00 = $1.29\n",
            "\n",
            "Predicted exchange rates for the next week (using DNN model):\n",
            "Date: 2023-12-02, Prediction: £1.00 = $1.27\n",
            "Date: 2023-12-04, Prediction: £1.00 = $1.27\n",
            "Date: 2023-12-06, Prediction: £1.00 = $1.28\n",
            "Date: 2023-12-08, Prediction: £1.00 = $1.28\n",
            "Date: 2023-12-10, Prediction: £1.00 = $1.29\n",
            "Date: 2023-12-12, Prediction: £1.00 = $1.29\n",
            "Date: 2023-12-14, Prediction: £1.00 = $1.30\n"
          ]
        }
      ],
      "source": [
        "# Print predicted exchange rates and dates for the next week using LSTM and DNN models\n",
        "print(\"Predicted exchange rates for the next week (using LSTM model):\")\n",
        "for i in range(num_days):\n",
        "    print(f\"Date: {dates_lstm[i].date()}, Prediction: £1.00 = ${predictions_lstm[i]:.2f}\")\n",
        "\n",
        "print(\"\\nPredicted exchange rates for the next week (using DNN model):\")\n",
        "for i in range(num_days):\n",
        "    print(f\"Date: {dates_dnn[i].date()}, Prediction: £1.00 = ${predictions_dnn[i]:.2f}\")"
      ]
    }
  ],
  "metadata": {
    "colab": {
      "provenance": []
    },
    "kernelspec": {
      "display_name": "Python 3",
      "language": "python",
      "name": "python3"
    },
    "language_info": {
      "codemirror_mode": {
        "name": "ipython",
        "version": 3
      },
      "file_extension": ".py",
      "mimetype": "text/x-python",
      "name": "python",
      "nbconvert_exporter": "python",
      "pygments_lexer": "ipython3",
      "version": "3.7.6"
    },
    "papermill": {
      "duration": 69.860802,
      "end_time": "2020-09-02T12:42:19.556096",
      "environment_variables": {},
      "exception": null,
      "input_path": "__notebook__.ipynb",
      "output_path": "__notebook__.ipynb",
      "parameters": {},
      "start_time": "2020-09-02T12:41:09.695294",
      "version": "2.1.0"
    }
  },
  "nbformat": 4,
  "nbformat_minor": 0
}