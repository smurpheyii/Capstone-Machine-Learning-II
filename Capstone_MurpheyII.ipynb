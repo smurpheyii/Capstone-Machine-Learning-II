{
  "cells": [
    {
      "cell_type": "markdown",
      "metadata": {
        "id": "view-in-github",
        "colab_type": "text"
      },
      "source": [
        "<a href=\"https://colab.research.google.com/github/smurpheyii/Capstone-Machine-Learning-II/blob/main/Capstone_MurpheyII.ipynb\" target=\"_parent\"><img src=\"https://colab.research.google.com/assets/colab-badge.svg\" alt=\"Open In Colab\"/></a>"
      ]
    },
    {
      "cell_type": "markdown",
      "metadata": {
        "papermill": {
          "duration": 0.011369,
          "end_time": "2020-09-02T12:41:13.819151",
          "exception": false,
          "start_time": "2020-09-02T12:41:13.807782",
          "status": "completed"
        },
        "tags": [],
        "id": "DIWxRfF-HMgY"
      },
      "source": [
        "# Foreign Exchange Rate Prediction using LSTM Recurrent Neural Network"
      ]
    },
    {
      "cell_type": "markdown",
      "metadata": {
        "papermill": {
          "duration": 0.009945,
          "end_time": "2020-09-02T12:41:13.839231",
          "exception": false,
          "start_time": "2020-09-02T12:41:13.829286",
          "status": "completed"
        },
        "tags": [],
        "id": "QDuGvtgEHMga"
      },
      "source": [
        "We will implement the LSTM Recurrent Neural Network to predict the foreign exchange rate. The LSTM model will be trained to learn the series of previous observations and predict the next observation in the sequence. We will apply this model in predicting the foreign exchange rate of British Pounds to American Dollars."
      ]
    },
    {
      "cell_type": "code",
      "execution_count": null,
      "metadata": {
        "execution": {
          "iopub.execute_input": "2020-09-02T12:41:13.868270Z",
          "iopub.status.busy": "2020-09-02T12:41:13.867678Z",
          "iopub.status.idle": "2020-09-02T12:41:19.065002Z",
          "shell.execute_reply": "2020-09-02T12:41:19.063937Z"
        },
        "id": "CGpgBRToPdB0",
        "papermill": {
          "duration": 5.214644,
          "end_time": "2020-09-02T12:41:19.065121",
          "exception": false,
          "start_time": "2020-09-02T12:41:13.850477",
          "status": "completed"
        },
        "tags": []
      },
      "outputs": [],
      "source": [
        "# Importing Linraries\n",
        "import pandas as pd\n",
        "import numpy as np\n",
        "import matplotlib.pyplot as plt\n",
        "%matplotlib inline\n",
        "import tensorflow as tf\n",
        "import keras"
      ]
    },
    {
      "cell_type": "code",
      "execution_count": null,
      "metadata": {
        "execution": {
          "iopub.execute_input": "2020-09-02T12:41:19.095112Z",
          "iopub.status.busy": "2020-09-02T12:41:19.094273Z",
          "iopub.status.idle": "2020-09-02T12:41:19.126587Z",
          "shell.execute_reply": "2020-09-02T12:41:19.126010Z"
        },
        "id": "B7raJ8yrPqBY",
        "papermill": {
          "duration": 0.050671,
          "end_time": "2020-09-02T12:41:19.126688",
          "exception": false,
          "start_time": "2020-09-02T12:41:19.076017",
          "status": "completed"
        },
        "tags": []
      },
      "outputs": [],
      "source": [
        "# Reading dataset\n",
        "data_set = pd.read_csv('./HistoricalPrices.csv', na_values='ND')"
      ]
    },
    {
      "cell_type": "code",
      "execution_count": null,
      "metadata": {
        "execution": {
          "iopub.execute_input": "2020-09-02T12:41:19.153149Z",
          "iopub.status.busy": "2020-09-02T12:41:19.152250Z",
          "iopub.status.idle": "2020-09-02T12:41:19.155972Z",
          "shell.execute_reply": "2020-09-02T12:41:19.156573Z"
        },
        "id": "CdWShU4LCWts",
        "outputId": "6280284b-414f-4891-a3b2-541655b1ae22",
        "papermill": {
          "duration": 0.019573,
          "end_time": "2020-09-02T12:41:19.156682",
          "exception": false,
          "start_time": "2020-09-02T12:41:19.137109",
          "status": "completed"
        },
        "tags": [],
        "colab": {
          "base_uri": "https://localhost:8080/"
        }
      },
      "outputs": [
        {
          "output_type": "execute_result",
          "data": {
            "text/plain": [
              "(4631, 5)"
            ]
          },
          "metadata": {},
          "execution_count": 5
        }
      ],
      "source": [
        "data_set.shape"
      ]
    },
    {
      "cell_type": "code",
      "execution_count": null,
      "metadata": {
        "execution": {
          "iopub.execute_input": "2020-09-02T12:41:19.201184Z",
          "iopub.status.busy": "2020-09-02T12:41:19.196475Z",
          "iopub.status.idle": "2020-09-02T12:41:19.216498Z",
          "shell.execute_reply": "2020-09-02T12:41:19.216972Z"
        },
        "id": "cw-YlY_APvPT",
        "outputId": "c91be0cf-b5bf-4524-c8f2-8c5036f030c8",
        "papermill": {
          "duration": 0.049822,
          "end_time": "2020-09-02T12:41:19.217095",
          "exception": false,
          "start_time": "2020-09-02T12:41:19.167273",
          "status": "completed"
        },
        "tags": [],
        "colab": {
          "base_uri": "https://localhost:8080/",
          "height": 206
        }
      },
      "outputs": [
        {
          "output_type": "execute_result",
          "data": {
            "text/plain": [
              "       Date    Open    High     Low   Close\n",
              "0  03/01/06  1.7500  1.7500  1.7500  1.7500\n",
              "1  03/02/06  1.7500  1.7535  1.7500  1.7535\n",
              "2  03/03/06  1.7535  1.7555  1.7535  1.7555\n",
              "3  03/06/06  1.7555  1.7555  1.7505  1.7505\n",
              "4  03/07/06  1.7505  1.7505  1.7360  1.7360"
            ],
            "text/html": [
              "\n",
              "  <div id=\"df-4e68700e-31b6-47c1-8820-0e1ef17c3d78\" class=\"colab-df-container\">\n",
              "    <div>\n",
              "<style scoped>\n",
              "    .dataframe tbody tr th:only-of-type {\n",
              "        vertical-align: middle;\n",
              "    }\n",
              "\n",
              "    .dataframe tbody tr th {\n",
              "        vertical-align: top;\n",
              "    }\n",
              "\n",
              "    .dataframe thead th {\n",
              "        text-align: right;\n",
              "    }\n",
              "</style>\n",
              "<table border=\"1\" class=\"dataframe\">\n",
              "  <thead>\n",
              "    <tr style=\"text-align: right;\">\n",
              "      <th></th>\n",
              "      <th>Date</th>\n",
              "      <th>Open</th>\n",
              "      <th>High</th>\n",
              "      <th>Low</th>\n",
              "      <th>Close</th>\n",
              "    </tr>\n",
              "  </thead>\n",
              "  <tbody>\n",
              "    <tr>\n",
              "      <th>0</th>\n",
              "      <td>03/01/06</td>\n",
              "      <td>1.7500</td>\n",
              "      <td>1.7500</td>\n",
              "      <td>1.7500</td>\n",
              "      <td>1.7500</td>\n",
              "    </tr>\n",
              "    <tr>\n",
              "      <th>1</th>\n",
              "      <td>03/02/06</td>\n",
              "      <td>1.7500</td>\n",
              "      <td>1.7535</td>\n",
              "      <td>1.7500</td>\n",
              "      <td>1.7535</td>\n",
              "    </tr>\n",
              "    <tr>\n",
              "      <th>2</th>\n",
              "      <td>03/03/06</td>\n",
              "      <td>1.7535</td>\n",
              "      <td>1.7555</td>\n",
              "      <td>1.7535</td>\n",
              "      <td>1.7555</td>\n",
              "    </tr>\n",
              "    <tr>\n",
              "      <th>3</th>\n",
              "      <td>03/06/06</td>\n",
              "      <td>1.7555</td>\n",
              "      <td>1.7555</td>\n",
              "      <td>1.7505</td>\n",
              "      <td>1.7505</td>\n",
              "    </tr>\n",
              "    <tr>\n",
              "      <th>4</th>\n",
              "      <td>03/07/06</td>\n",
              "      <td>1.7505</td>\n",
              "      <td>1.7505</td>\n",
              "      <td>1.7360</td>\n",
              "      <td>1.7360</td>\n",
              "    </tr>\n",
              "  </tbody>\n",
              "</table>\n",
              "</div>\n",
              "    <div class=\"colab-df-buttons\">\n",
              "\n",
              "  <div class=\"colab-df-container\">\n",
              "    <button class=\"colab-df-convert\" onclick=\"convertToInteractive('df-4e68700e-31b6-47c1-8820-0e1ef17c3d78')\"\n",
              "            title=\"Convert this dataframe to an interactive table.\"\n",
              "            style=\"display:none;\">\n",
              "\n",
              "  <svg xmlns=\"http://www.w3.org/2000/svg\" height=\"24px\" viewBox=\"0 -960 960 960\">\n",
              "    <path d=\"M120-120v-720h720v720H120Zm60-500h600v-160H180v160Zm220 220h160v-160H400v160Zm0 220h160v-160H400v160ZM180-400h160v-160H180v160Zm440 0h160v-160H620v160ZM180-180h160v-160H180v160Zm440 0h160v-160H620v160Z\"/>\n",
              "  </svg>\n",
              "    </button>\n",
              "\n",
              "  <style>\n",
              "    .colab-df-container {\n",
              "      display:flex;\n",
              "      gap: 12px;\n",
              "    }\n",
              "\n",
              "    .colab-df-convert {\n",
              "      background-color: #E8F0FE;\n",
              "      border: none;\n",
              "      border-radius: 50%;\n",
              "      cursor: pointer;\n",
              "      display: none;\n",
              "      fill: #1967D2;\n",
              "      height: 32px;\n",
              "      padding: 0 0 0 0;\n",
              "      width: 32px;\n",
              "    }\n",
              "\n",
              "    .colab-df-convert:hover {\n",
              "      background-color: #E2EBFA;\n",
              "      box-shadow: 0px 1px 2px rgba(60, 64, 67, 0.3), 0px 1px 3px 1px rgba(60, 64, 67, 0.15);\n",
              "      fill: #174EA6;\n",
              "    }\n",
              "\n",
              "    .colab-df-buttons div {\n",
              "      margin-bottom: 4px;\n",
              "    }\n",
              "\n",
              "    [theme=dark] .colab-df-convert {\n",
              "      background-color: #3B4455;\n",
              "      fill: #D2E3FC;\n",
              "    }\n",
              "\n",
              "    [theme=dark] .colab-df-convert:hover {\n",
              "      background-color: #434B5C;\n",
              "      box-shadow: 0px 1px 3px 1px rgba(0, 0, 0, 0.15);\n",
              "      filter: drop-shadow(0px 1px 2px rgba(0, 0, 0, 0.3));\n",
              "      fill: #FFFFFF;\n",
              "    }\n",
              "  </style>\n",
              "\n",
              "    <script>\n",
              "      const buttonEl =\n",
              "        document.querySelector('#df-4e68700e-31b6-47c1-8820-0e1ef17c3d78 button.colab-df-convert');\n",
              "      buttonEl.style.display =\n",
              "        google.colab.kernel.accessAllowed ? 'block' : 'none';\n",
              "\n",
              "      async function convertToInteractive(key) {\n",
              "        const element = document.querySelector('#df-4e68700e-31b6-47c1-8820-0e1ef17c3d78');\n",
              "        const dataTable =\n",
              "          await google.colab.kernel.invokeFunction('convertToInteractive',\n",
              "                                                    [key], {});\n",
              "        if (!dataTable) return;\n",
              "\n",
              "        const docLinkHtml = 'Like what you see? Visit the ' +\n",
              "          '<a target=\"_blank\" href=https://colab.research.google.com/notebooks/data_table.ipynb>data table notebook</a>'\n",
              "          + ' to learn more about interactive tables.';\n",
              "        element.innerHTML = '';\n",
              "        dataTable['output_type'] = 'display_data';\n",
              "        await google.colab.output.renderOutput(dataTable, element);\n",
              "        const docLink = document.createElement('div');\n",
              "        docLink.innerHTML = docLinkHtml;\n",
              "        element.appendChild(docLink);\n",
              "      }\n",
              "    </script>\n",
              "  </div>\n",
              "\n",
              "\n",
              "<div id=\"df-e4d44f44-1ba8-47e6-84fe-458fd426243c\">\n",
              "  <button class=\"colab-df-quickchart\" onclick=\"quickchart('df-e4d44f44-1ba8-47e6-84fe-458fd426243c')\"\n",
              "            title=\"Suggest charts\"\n",
              "            style=\"display:none;\">\n",
              "\n",
              "<svg xmlns=\"http://www.w3.org/2000/svg\" height=\"24px\"viewBox=\"0 0 24 24\"\n",
              "     width=\"24px\">\n",
              "    <g>\n",
              "        <path d=\"M19 3H5c-1.1 0-2 .9-2 2v14c0 1.1.9 2 2 2h14c1.1 0 2-.9 2-2V5c0-1.1-.9-2-2-2zM9 17H7v-7h2v7zm4 0h-2V7h2v10zm4 0h-2v-4h2v4z\"/>\n",
              "    </g>\n",
              "</svg>\n",
              "  </button>\n",
              "\n",
              "<style>\n",
              "  .colab-df-quickchart {\n",
              "      --bg-color: #E8F0FE;\n",
              "      --fill-color: #1967D2;\n",
              "      --hover-bg-color: #E2EBFA;\n",
              "      --hover-fill-color: #174EA6;\n",
              "      --disabled-fill-color: #AAA;\n",
              "      --disabled-bg-color: #DDD;\n",
              "  }\n",
              "\n",
              "  [theme=dark] .colab-df-quickchart {\n",
              "      --bg-color: #3B4455;\n",
              "      --fill-color: #D2E3FC;\n",
              "      --hover-bg-color: #434B5C;\n",
              "      --hover-fill-color: #FFFFFF;\n",
              "      --disabled-bg-color: #3B4455;\n",
              "      --disabled-fill-color: #666;\n",
              "  }\n",
              "\n",
              "  .colab-df-quickchart {\n",
              "    background-color: var(--bg-color);\n",
              "    border: none;\n",
              "    border-radius: 50%;\n",
              "    cursor: pointer;\n",
              "    display: none;\n",
              "    fill: var(--fill-color);\n",
              "    height: 32px;\n",
              "    padding: 0;\n",
              "    width: 32px;\n",
              "  }\n",
              "\n",
              "  .colab-df-quickchart:hover {\n",
              "    background-color: var(--hover-bg-color);\n",
              "    box-shadow: 0 1px 2px rgba(60, 64, 67, 0.3), 0 1px 3px 1px rgba(60, 64, 67, 0.15);\n",
              "    fill: var(--button-hover-fill-color);\n",
              "  }\n",
              "\n",
              "  .colab-df-quickchart-complete:disabled,\n",
              "  .colab-df-quickchart-complete:disabled:hover {\n",
              "    background-color: var(--disabled-bg-color);\n",
              "    fill: var(--disabled-fill-color);\n",
              "    box-shadow: none;\n",
              "  }\n",
              "\n",
              "  .colab-df-spinner {\n",
              "    border: 2px solid var(--fill-color);\n",
              "    border-color: transparent;\n",
              "    border-bottom-color: var(--fill-color);\n",
              "    animation:\n",
              "      spin 1s steps(1) infinite;\n",
              "  }\n",
              "\n",
              "  @keyframes spin {\n",
              "    0% {\n",
              "      border-color: transparent;\n",
              "      border-bottom-color: var(--fill-color);\n",
              "      border-left-color: var(--fill-color);\n",
              "    }\n",
              "    20% {\n",
              "      border-color: transparent;\n",
              "      border-left-color: var(--fill-color);\n",
              "      border-top-color: var(--fill-color);\n",
              "    }\n",
              "    30% {\n",
              "      border-color: transparent;\n",
              "      border-left-color: var(--fill-color);\n",
              "      border-top-color: var(--fill-color);\n",
              "      border-right-color: var(--fill-color);\n",
              "    }\n",
              "    40% {\n",
              "      border-color: transparent;\n",
              "      border-right-color: var(--fill-color);\n",
              "      border-top-color: var(--fill-color);\n",
              "    }\n",
              "    60% {\n",
              "      border-color: transparent;\n",
              "      border-right-color: var(--fill-color);\n",
              "    }\n",
              "    80% {\n",
              "      border-color: transparent;\n",
              "      border-right-color: var(--fill-color);\n",
              "      border-bottom-color: var(--fill-color);\n",
              "    }\n",
              "    90% {\n",
              "      border-color: transparent;\n",
              "      border-bottom-color: var(--fill-color);\n",
              "    }\n",
              "  }\n",
              "</style>\n",
              "\n",
              "  <script>\n",
              "    async function quickchart(key) {\n",
              "      const quickchartButtonEl =\n",
              "        document.querySelector('#' + key + ' button');\n",
              "      quickchartButtonEl.disabled = true;  // To prevent multiple clicks.\n",
              "      quickchartButtonEl.classList.add('colab-df-spinner');\n",
              "      try {\n",
              "        const charts = await google.colab.kernel.invokeFunction(\n",
              "            'suggestCharts', [key], {});\n",
              "      } catch (error) {\n",
              "        console.error('Error during call to suggestCharts:', error);\n",
              "      }\n",
              "      quickchartButtonEl.classList.remove('colab-df-spinner');\n",
              "      quickchartButtonEl.classList.add('colab-df-quickchart-complete');\n",
              "    }\n",
              "    (() => {\n",
              "      let quickchartButtonEl =\n",
              "        document.querySelector('#df-e4d44f44-1ba8-47e6-84fe-458fd426243c button');\n",
              "      quickchartButtonEl.style.display =\n",
              "        google.colab.kernel.accessAllowed ? 'block' : 'none';\n",
              "    })();\n",
              "  </script>\n",
              "</div>\n",
              "    </div>\n",
              "  </div>\n"
            ]
          },
          "metadata": {},
          "execution_count": 4
        }
      ],
      "source": [
        "# Dataset head\n",
        "data_set.head()"
      ]
    },
    {
      "cell_type": "code",
      "execution_count": null,
      "metadata": {
        "execution": {
          "iopub.execute_input": "2020-09-02T12:41:19.243051Z",
          "iopub.status.busy": "2020-09-02T12:41:19.242206Z",
          "iopub.status.idle": "2020-09-02T12:41:19.250101Z",
          "shell.execute_reply": "2020-09-02T12:41:19.249629Z"
        },
        "id": "gs9HZoftSiQi",
        "outputId": "f68b1b36-6990-47da-b7b1-d41081f2fb49",
        "papermill": {
          "duration": 0.022128,
          "end_time": "2020-09-02T12:41:19.250195",
          "exception": false,
          "start_time": "2020-09-02T12:41:19.228067",
          "status": "completed"
        },
        "tags": [],
        "colab": {
          "base_uri": "https://localhost:8080/"
        }
      },
      "outputs": [
        {
          "output_type": "execute_result",
          "data": {
            "text/plain": [
              "Date     0\n",
              "Open     0\n",
              "High     0\n",
              "Low      0\n",
              "Close    0\n",
              "dtype: int64"
            ]
          },
          "metadata": {},
          "execution_count": 6
        }
      ],
      "source": [
        "# Checking null values\n",
        "data_set.isnull().sum()"
      ]
    },
    {
      "cell_type": "code",
      "execution_count": null,
      "metadata": {
        "execution": {
          "iopub.execute_input": "2020-09-02T12:41:19.278704Z",
          "iopub.status.busy": "2020-09-02T12:41:19.277860Z",
          "iopub.status.idle": "2020-09-02T12:41:19.293014Z",
          "shell.execute_reply": "2020-09-02T12:41:19.292544Z"
        },
        "id": "38VFuMQ2Sjno",
        "outputId": "a27b4625-e4f1-48ee-8aec-bb528c3b9823",
        "papermill": {
          "duration": 0.030597,
          "end_time": "2020-09-02T12:41:19.293106",
          "exception": false,
          "start_time": "2020-09-02T12:41:19.262509",
          "status": "completed"
        },
        "tags": [],
        "colab": {
          "base_uri": "https://localhost:8080/"
        }
      },
      "outputs": [
        {
          "output_type": "execute_result",
          "data": {
            "text/plain": [
              "Date     0\n",
              "Open     0\n",
              "High     0\n",
              "Low      0\n",
              "Close    0\n",
              "dtype: int64"
            ]
          },
          "metadata": {},
          "execution_count": 7
        }
      ],
      "source": [
        "data_set.interpolate(inplace=True)\n",
        "data_set.isnull().sum()"
      ]
    },
    {
      "cell_type": "code",
      "execution_count": null,
      "metadata": {
        "execution": {
          "iopub.execute_input": "2020-09-02T12:41:19.319019Z",
          "iopub.status.busy": "2020-09-02T12:41:19.318330Z",
          "iopub.status.idle": "2020-09-02T12:41:19.510694Z",
          "shell.execute_reply": "2020-09-02T12:41:19.510135Z"
        },
        "id": "zxBUWPCgPzeM",
        "outputId": "56487ec6-6981-4837-9a52-e2329914e3ab",
        "papermill": {
          "duration": 0.206659,
          "end_time": "2020-09-02T12:41:19.510799",
          "exception": false,
          "start_time": "2020-09-02T12:41:19.304140",
          "status": "completed"
        },
        "tags": [],
        "colab": {
          "base_uri": "https://localhost:8080/",
          "height": 447
        }
      },
      "outputs": [
        {
          "output_type": "execute_result",
          "data": {
            "text/plain": [
              "[<matplotlib.lines.Line2D at 0x7e1ee1482d70>]"
            ]
          },
          "metadata": {},
          "execution_count": 8
        },
        {
          "output_type": "display_data",
          "data": {
            "text/plain": [
              "<Figure size 640x480 with 1 Axes>"
            ],
            "image/png": "[encoded data removed]"
          },
          "metadata": {}
        }
      ],
      "source": [
        "# Plotting GBPtoUSD Exchange rate\n",
        "plt.plot(data_set['High'])"
      ]
    },
    {
      "cell_type": "code",
      "execution_count": null,
      "metadata": {
        "execution": {
          "iopub.execute_input": "2020-09-02T12:41:19.541770Z",
          "iopub.status.busy": "2020-09-02T12:41:19.540304Z",
          "iopub.status.idle": "2020-09-02T12:41:19.543442Z",
          "shell.execute_reply": "2020-09-02T12:41:19.542957Z"
        },
        "id": "KchDR_yYP6EL",
        "papermill": {
          "duration": 0.019694,
          "end_time": "2020-09-02T12:41:19.543535",
          "exception": false,
          "start_time": "2020-09-02T12:41:19.523841",
          "status": "completed"
        },
        "tags": []
      },
      "outputs": [],
      "source": [
        "# Data frame\n",
        "df = data_set['High']"
      ]
    },
    {
      "cell_type": "code",
      "execution_count": null,
      "metadata": {
        "execution": {
          "iopub.execute_input": "2020-09-02T12:41:19.573784Z",
          "iopub.status.busy": "2020-09-02T12:41:19.572924Z",
          "iopub.status.idle": "2020-09-02T12:41:19.577171Z",
          "shell.execute_reply": "2020-09-02T12:41:19.577978Z"
        },
        "id": "ny8NjFITQCHz",
        "outputId": "d8bc5ce6-bd42-4e5d-97f8-2d6e5c8c79f0",
        "papermill": {
          "duration": 0.022961,
          "end_time": "2020-09-02T12:41:19.578118",
          "exception": false,
          "start_time": "2020-09-02T12:41:19.555157",
          "status": "completed"
        },
        "tags": [],
        "colab": {
          "base_uri": "https://localhost:8080/"
        }
      },
      "outputs": [
        {
          "output_type": "stream",
          "name": "stdout",
          "text": [
            "0       1.7500\n",
            "1       1.7535\n",
            "2       1.7555\n",
            "3       1.7555\n",
            "4       1.7505\n",
            "         ...  \n",
            "4626    1.2571\n",
            "4627    1.2616\n",
            "4628    1.2645\n",
            "4629    1.2716\n",
            "4630    1.2734\n",
            "Name: High, Length: 4631, dtype: float64\n"
          ]
        }
      ],
      "source": [
        "print(df)"
      ]
    },
    {
      "cell_type": "code",
      "execution_count": null,
      "metadata": {
        "execution": {
          "iopub.execute_input": "2020-09-02T12:41:19.607341Z",
          "iopub.status.busy": "2020-09-02T12:41:19.606606Z",
          "iopub.status.idle": "2020-09-02T12:41:19.609672Z",
          "shell.execute_reply": "2020-09-02T12:41:19.609195Z"
        },
        "id": "R2BO97fBQM6C",
        "papermill": {
          "duration": 0.019033,
          "end_time": "2020-09-02T12:41:19.609775",
          "exception": false,
          "start_time": "2020-09-02T12:41:19.590742",
          "status": "completed"
        },
        "tags": []
      },
      "outputs": [],
      "source": [
        "# Preprocessing data set\n",
        "df = np.array(df).reshape(-1,1)"
      ]
    },
    {
      "cell_type": "code",
      "execution_count": null,
      "metadata": {
        "execution": {
          "iopub.execute_input": "2020-09-02T12:41:19.637880Z",
          "iopub.status.busy": "2020-09-02T12:41:19.637039Z",
          "iopub.status.idle": "2020-09-02T12:41:19.640973Z",
          "shell.execute_reply": "2020-09-02T12:41:19.640489Z"
        },
        "id": "RfVzi2rhS_J7",
        "outputId": "4fb9fbb3-3e06-41cc-8168-36a0cd9d739a",
        "papermill": {
          "duration": 0.019691,
          "end_time": "2020-09-02T12:41:19.641058",
          "exception": false,
          "start_time": "2020-09-02T12:41:19.621367",
          "status": "completed"
        },
        "tags": [],
        "colab": {
          "base_uri": "https://localhost:8080/"
        }
      },
      "outputs": [
        {
          "output_type": "execute_result",
          "data": {
            "text/plain": [
              "array([[1.75  ],\n",
              "       [1.7535],\n",
              "       [1.7555],\n",
              "       ...,\n",
              "       [1.2645],\n",
              "       [1.2716],\n",
              "       [1.2734]])"
            ]
          },
          "metadata": {},
          "execution_count": 12
        }
      ],
      "source": [
        "df"
      ]
    },
    {
      "cell_type": "code",
      "execution_count": null,
      "metadata": {
        "execution": {
          "iopub.execute_input": "2020-09-02T12:41:19.669344Z",
          "iopub.status.busy": "2020-09-02T12:41:19.668598Z",
          "iopub.status.idle": "2020-09-02T12:41:20.409213Z",
          "shell.execute_reply": "2020-09-02T12:41:20.409771Z"
        },
        "id": "6jhJwcG1QQMD",
        "papermill": {
          "duration": 0.757135,
          "end_time": "2020-09-02T12:41:20.409930",
          "exception": false,
          "start_time": "2020-09-02T12:41:19.652795",
          "status": "completed"
        },
        "tags": []
      },
      "outputs": [],
      "source": [
        "from sklearn.preprocessing import MinMaxScaler\n",
        "scaler = MinMaxScaler()"
      ]
    },
    {
      "cell_type": "code",
      "execution_count": null,
      "metadata": {
        "execution": {
          "iopub.execute_input": "2020-09-02T12:41:20.452517Z",
          "iopub.status.busy": "2020-09-02T12:41:20.450647Z",
          "iopub.status.idle": "2020-09-02T12:41:20.453561Z",
          "shell.execute_reply": "2020-09-02T12:41:20.454335Z"
        },
        "id": "W31WJ9-SQfki",
        "papermill": {
          "duration": 0.027907,
          "end_time": "2020-09-02T12:41:20.454513",
          "exception": false,
          "start_time": "2020-09-02T12:41:20.426606",
          "status": "completed"
        },
        "tags": []
      },
      "outputs": [],
      "source": [
        "df = scaler.fit_transform(df)"
      ]
    },
    {
      "cell_type": "code",
      "execution_count": null,
      "metadata": {
        "execution": {
          "iopub.execute_input": "2020-09-02T12:41:20.495400Z",
          "iopub.status.busy": "2020-09-02T12:41:20.494558Z",
          "iopub.status.idle": "2020-09-02T12:41:20.498602Z",
          "shell.execute_reply": "2020-09-02T12:41:20.499313Z"
        },
        "id": "CBKGP4mRQS-L",
        "outputId": "f055e675-cd3b-4b14-b3b4-fd379dbd85de",
        "papermill": {
          "duration": 0.028058,
          "end_time": "2020-09-02T12:41:20.499480",
          "exception": false,
          "start_time": "2020-09-02T12:41:20.471422",
          "status": "completed"
        },
        "tags": [],
        "colab": {
          "base_uri": "https://localhost:8080/"
        }
      },
      "outputs": [
        {
          "output_type": "execute_result",
          "data": {
            "text/plain": [
              "array([[0.65077659],\n",
              "       [0.65419557],\n",
              "       [0.65614926],\n",
              "       ...,\n",
              "       [0.17651656],\n",
              "       [0.18345218],\n",
              "       [0.18521051]])"
            ]
          },
          "metadata": {},
          "execution_count": 15
        }
      ],
      "source": [
        "df"
      ]
    },
    {
      "cell_type": "code",
      "execution_count": null,
      "metadata": {
        "execution": {
          "iopub.execute_input": "2020-09-02T12:41:20.553626Z",
          "iopub.status.busy": "2020-09-02T12:41:20.551614Z",
          "iopub.status.idle": "2020-09-02T12:41:20.556801Z",
          "shell.execute_reply": "2020-09-02T12:41:20.552547Z"
        },
        "id": "d5ygb4hhQYFz",
        "outputId": "a07f971e-298a-40a7-fb9f-3b74c493d206",
        "papermill": {
          "duration": 0.039198,
          "end_time": "2020-09-02T12:41:20.557071",
          "exception": false,
          "start_time": "2020-09-02T12:41:20.517873",
          "status": "completed"
        },
        "tags": [],
        "colab": {
          "base_uri": "https://localhost:8080/"
        }
      },
      "outputs": [
        {
          "output_type": "stream",
          "name": "stdout",
          "text": [
            "(4261, 1)\n",
            "(370, 1)\n"
          ]
        }
      ],
      "source": [
        "# Training and test sets\n",
        "train = df[:4261]\n",
        "test = df[4261:]\n",
        "\n",
        "print(train.shape)\n",
        "print(test.shape)"
      ]
    },
    {
      "cell_type": "code",
      "execution_count": null,
      "metadata": {
        "execution": {
          "iopub.execute_input": "2020-09-02T12:41:20.609045Z",
          "iopub.status.busy": "2020-09-02T12:41:20.608179Z",
          "iopub.status.idle": "2020-09-02T12:41:20.612882Z",
          "shell.execute_reply": "2020-09-02T12:41:20.613598Z"
        },
        "id": "bfxk8KwfQnYi",
        "papermill": {
          "duration": 0.033506,
          "end_time": "2020-09-02T12:41:20.613797",
          "exception": false,
          "start_time": "2020-09-02T12:41:20.580291",
          "status": "completed"
        },
        "tags": []
      },
      "outputs": [],
      "source": [
        "def get_data(data, look_back):\n",
        "  datax, datay = [],[]\n",
        "  for i in range(len(data)-look_back-1):\n",
        "    datax.append(data[i:(i+look_back),0])\n",
        "    datay.append(data[i+look_back,0])\n",
        "  return np.array(datax) , np.array(datay)"
      ]
    },
    {
      "cell_type": "code",
      "execution_count": null,
      "metadata": {
        "execution": {
          "iopub.execute_input": "2020-09-02T12:41:20.661793Z",
          "iopub.status.busy": "2020-09-02T12:41:20.660912Z",
          "iopub.status.idle": "2020-09-02T12:41:20.676808Z",
          "shell.execute_reply": "2020-09-02T12:41:20.677905Z"
        },
        "id": "UtWsYOBeQqq6",
        "outputId": "08ee82ed-484b-4672-f2aa-4d58150404d5",
        "papermill": {
          "duration": 0.046412,
          "end_time": "2020-09-02T12:41:20.678066",
          "exception": false,
          "start_time": "2020-09-02T12:41:20.631654",
          "status": "completed"
        },
        "tags": [],
        "colab": {
          "base_uri": "https://localhost:8080/"
        }
      },
      "outputs": [
        {
          "output_type": "stream",
          "name": "stdout",
          "text": [
            "(4259, 1)\n",
            "(4259,)\n"
          ]
        }
      ],
      "source": [
        "look_back = 1\n",
        "\n",
        "x_train , y_train = get_data(train, look_back)\n",
        "print(x_train.shape)\n",
        "print(y_train.shape)"
      ]
    },
    {
      "cell_type": "code",
      "execution_count": null,
      "metadata": {
        "execution": {
          "iopub.execute_input": "2020-09-02T12:41:20.723161Z",
          "iopub.status.busy": "2020-09-02T12:41:20.722382Z",
          "iopub.status.idle": "2020-09-02T12:41:20.729121Z",
          "shell.execute_reply": "2020-09-02T12:41:20.729892Z"
        },
        "id": "QmQ4aTwAQuQz",
        "outputId": "916799ec-7999-4289-81b8-dd0b0e660269",
        "papermill": {
          "duration": 0.03329,
          "end_time": "2020-09-02T12:41:20.730037",
          "exception": false,
          "start_time": "2020-09-02T12:41:20.696747",
          "status": "completed"
        },
        "tags": [],
        "colab": {
          "base_uri": "https://localhost:8080/"
        }
      },
      "outputs": [
        {
          "output_type": "stream",
          "name": "stdout",
          "text": [
            "(368, 1)\n",
            "(368,)\n"
          ]
        }
      ],
      "source": [
        "x_test , y_test = get_data(test, look_back)\n",
        "print(x_test.shape)\n",
        "print(y_test.shape)"
      ]
    },
    {
      "cell_type": "code",
      "execution_count": null,
      "metadata": {
        "execution": {
          "iopub.execute_input": "2020-09-02T12:41:20.775916Z",
          "iopub.status.busy": "2020-09-02T12:41:20.775026Z",
          "iopub.status.idle": "2020-09-02T12:41:20.777465Z",
          "shell.execute_reply": "2020-09-02T12:41:20.776678Z"
        },
        "id": "OzM72hLXQ8oS",
        "papermill": {
          "duration": 0.029037,
          "end_time": "2020-09-02T12:41:20.777601",
          "exception": false,
          "start_time": "2020-09-02T12:41:20.748564",
          "status": "completed"
        },
        "tags": []
      },
      "outputs": [],
      "source": [
        "# Processing train and test sets for LSTM model\n",
        "x_train = x_train.reshape(x_train.shape[0], x_train.shape[1], 1)\n",
        "x_test = x_test.reshape(x_test.shape[0], x_test.shape[1], 1)"
      ]
    },
    {
      "cell_type": "code",
      "execution_count": null,
      "metadata": {
        "execution": {
          "iopub.execute_input": "2020-09-02T12:41:20.824611Z",
          "iopub.status.busy": "2020-09-02T12:41:20.823745Z",
          "iopub.status.idle": "2020-09-02T12:41:20.827942Z",
          "shell.execute_reply": "2020-09-02T12:41:20.825315Z"
        },
        "id": "G-B3ojD_Q_9r",
        "outputId": "ff0f2339-da2a-43f4-b47f-d1f22299cc71",
        "papermill": {
          "duration": 0.031525,
          "end_time": "2020-09-02T12:41:20.828193",
          "exception": false,
          "start_time": "2020-09-02T12:41:20.796668",
          "status": "completed"
        },
        "tags": [],
        "colab": {
          "base_uri": "https://localhost:8080/"
        }
      },
      "outputs": [
        {
          "output_type": "stream",
          "name": "stdout",
          "text": [
            "(4259, 1, 1)\n",
            "(368, 1, 1)\n"
          ]
        }
      ],
      "source": [
        "print(x_train.shape)\n",
        "print(x_test.shape)"
      ]
    },
    {
      "cell_type": "code",
      "execution_count": null,
      "metadata": {
        "execution": {
          "iopub.execute_input": "2020-09-02T12:41:20.889651Z",
          "iopub.status.busy": "2020-09-02T12:41:20.888630Z",
          "iopub.status.idle": "2020-09-02T12:41:20.891323Z",
          "shell.execute_reply": "2020-09-02T12:41:20.890543Z"
        },
        "id": "CwlLkaaWUnG3",
        "papermill": {
          "duration": 0.032381,
          "end_time": "2020-09-02T12:41:20.891494",
          "exception": false,
          "start_time": "2020-09-02T12:41:20.859113",
          "status": "completed"
        },
        "tags": []
      },
      "outputs": [],
      "source": [
        "# Defining the LSTM model\n",
        "from keras.models import Sequential\n",
        "from keras.layers import Dense,LSTM"
      ]
    },
    {
      "cell_type": "code",
      "execution_count": null,
      "metadata": {
        "execution": {
          "iopub.execute_input": "2020-09-02T12:41:20.940960Z",
          "iopub.status.busy": "2020-09-02T12:41:20.936744Z",
          "iopub.status.idle": "2020-09-02T12:41:23.664164Z",
          "shell.execute_reply": "2020-09-02T12:41:23.663183Z"
        },
        "id": "ADqH_jV4RE1C",
        "papermill": {
          "duration": 2.752605,
          "end_time": "2020-09-02T12:41:23.664292",
          "exception": false,
          "start_time": "2020-09-02T12:41:20.911687",
          "status": "completed"
        },
        "tags": []
      },
      "outputs": [],
      "source": [
        "n_features = x_train.shape[1]\n",
        "model = Sequential()\n",
        "model.add(LSTM(100, activation = 'relu', input_shape = (1, 1)))\n",
        "model.add(Dense(n_features))"
      ]
    },
    {
      "cell_type": "code",
      "execution_count": null,
      "metadata": {
        "execution": {
          "iopub.execute_input": "2020-09-02T12:41:23.700246Z",
          "iopub.status.busy": "2020-09-02T12:41:23.699488Z",
          "iopub.status.idle": "2020-09-02T12:41:23.702705Z",
          "shell.execute_reply": "2020-09-02T12:41:23.700830Z"
        },
        "id": "lbd3pItfnhRU",
        "outputId": "9f9a9c22-8d78-4c6c-ce2e-5fd27deb1d12",
        "papermill": {
          "duration": 0.025014,
          "end_time": "2020-09-02T12:41:23.702809",
          "exception": false,
          "start_time": "2020-09-02T12:41:23.677795",
          "status": "completed"
        },
        "tags": [],
        "colab": {
          "base_uri": "https://localhost:8080/"
        }
      },
      "outputs": [
        {
          "output_type": "stream",
          "name": "stdout",
          "text": [
            "Model: \"sequential_1\"\n",
            "_________________________________________________________________\n",
            " Layer (type)                Output Shape              Param #   \n",
            "=================================================================\n",
            " lstm_1 (LSTM)               (None, 100)               40800     \n",
            "                                                                 \n",
            " dense_1 (Dense)             (None, 1)                 101       \n",
            "                                                                 \n",
            "=================================================================\n",
            "Total params: 40901 (159.77 KB)\n",
            "Trainable params: 40901 (159.77 KB)\n",
            "Non-trainable params: 0 (0.00 Byte)\n",
            "_________________________________________________________________\n"
          ]
        }
      ],
      "source": [
        "model.summary()"
      ]
    },
    {
      "cell_type": "code",
      "execution_count": null,
      "metadata": {
        "execution": {
          "iopub.execute_input": "2020-09-02T12:41:23.738922Z",
          "iopub.status.busy": "2020-09-02T12:41:23.736983Z",
          "iopub.status.idle": "2020-09-02T12:41:23.745030Z",
          "shell.execute_reply": "2020-09-02T12:41:23.745611Z"
        },
        "id": "UtqjJA0wRHPq",
        "papermill": {
          "duration": 0.030126,
          "end_time": "2020-09-02T12:41:23.745779",
          "exception": false,
          "start_time": "2020-09-02T12:41:23.715653",
          "status": "completed"
        },
        "tags": []
      },
      "outputs": [],
      "source": [
        "# Compiling\n",
        "model.compile(optimizer = 'adam', loss = 'mse')"
      ]
    },
    {
      "cell_type": "code",
      "execution_count": null,
      "metadata": {
        "execution": {
          "iopub.execute_input": "2020-09-02T12:41:23.775720Z",
          "iopub.status.busy": "2020-09-02T12:41:23.775115Z",
          "iopub.status.idle": "2020-09-02T12:42:16.970655Z",
          "shell.execute_reply": "2020-09-02T12:42:16.970038Z"
        },
        "id": "rQmkEljuRJ5K",
        "outputId": "fcc30a5c-ad68-458f-a5b7-66481a998a3e",
        "papermill": {
          "duration": 53.212055,
          "end_time": "2020-09-02T12:42:16.970771",
          "exception": false,
          "start_time": "2020-09-02T12:41:23.758716",
          "status": "completed"
        },
        "tags": [],
        "colab": {
          "base_uri": "https://localhost:8080/"
        }
      },
      "outputs": [
        {
          "output_type": "stream",
          "name": "stdout",
          "text": [
            "Epoch 1/5\n",
            "4259/4259 [==============================] - 21s 5ms/step - loss: 0.0047\n",
            "Epoch 2/5\n",
            "4259/4259 [==============================] - 13s 3ms/step - loss: 1.1426e-04\n",
            "Epoch 3/5\n",
            "4259/4259 [==============================] - 13s 3ms/step - loss: 8.8192e-05\n",
            "Epoch 4/5\n",
            "4259/4259 [==============================] - 14s 3ms/step - loss: 8.6107e-05\n",
            "Epoch 5/5\n",
            "4259/4259 [==============================] - 15s 4ms/step - loss: 8.2381e-05\n"
          ]
        },
        {
          "output_type": "execute_result",
          "data": {
            "text/plain": [
              "<keras.src.callbacks.History at 0x7e1ed9f4df00>"
            ]
          },
          "metadata": {},
          "execution_count": 27
        }
      ],
      "source": [
        "# Training\n",
        "model.fit(x_train, y_train, epochs = 5, batch_size=1)"
      ]
    },
    {
      "cell_type": "code",
      "execution_count": null,
      "metadata": {
        "execution": {
          "iopub.execute_input": "2020-09-02T12:42:17.117132Z",
          "iopub.status.busy": "2020-09-02T12:42:17.116335Z",
          "iopub.status.idle": "2020-09-02T12:42:17.120038Z",
          "shell.execute_reply": "2020-09-02T12:42:17.120522Z"
        },
        "id": "W0NpJaSLRNuR",
        "outputId": "2a784ad0-92cf-4567-962f-602ea1ab5478",
        "papermill": {
          "duration": 0.079125,
          "end_time": "2020-09-02T12:42:17.120650",
          "exception": false,
          "start_time": "2020-09-02T12:42:17.041525",
          "status": "completed"
        },
        "tags": [],
        "colab": {
          "base_uri": "https://localhost:8080/"
        }
      },
      "outputs": [
        {
          "output_type": "execute_result",
          "data": {
            "text/plain": [
              "array([0.97684869])"
            ]
          },
          "metadata": {},
          "execution_count": 28
        }
      ],
      "source": [
        "# Prediction using the trained model\n",
        "scaler.scale_"
      ]
    },
    {
      "cell_type": "code",
      "execution_count": null,
      "metadata": {
        "execution": {
          "iopub.execute_input": "2020-09-02T12:42:17.264550Z",
          "iopub.status.busy": "2020-09-02T12:42:17.263695Z",
          "iopub.status.idle": "2020-09-02T12:42:17.480587Z",
          "shell.execute_reply": "2020-09-02T12:42:17.481330Z"
        },
        "id": "onJFn6KyRQfa",
        "outputId": "d102c549-9d47-4865-ae65-dfa02ec6984e",
        "papermill": {
          "duration": 0.291396,
          "end_time": "2020-09-02T12:42:17.481550",
          "exception": false,
          "start_time": "2020-09-02T12:42:17.190154",
          "status": "completed"
        },
        "tags": [],
        "colab": {
          "base_uri": "https://localhost:8080/"
        }
      },
      "outputs": [
        {
          "output_type": "stream",
          "name": "stdout",
          "text": [
            "12/12 [==============================] - 0s 2ms/step\n",
            "[[1.2200699]\n",
            " [1.2195296]\n",
            " [1.2179985]\n",
            " [1.2143964]\n",
            " [1.2023923]\n",
            " [1.2060561]\n",
            " [1.2082369]\n",
            " [1.2066666]\n",
            " [1.1960253]\n",
            " [1.2004734]]\n"
          ]
        }
      ],
      "source": [
        "y_pred = model.predict(x_test)\n",
        "y_pred = scaler.inverse_transform(y_pred)\n",
        "print(y_pred[:10])"
      ]
    },
    {
      "cell_type": "code",
      "execution_count": null,
      "metadata": {
        "execution": {
          "iopub.execute_input": "2020-09-02T12:42:17.634885Z",
          "iopub.status.busy": "2020-09-02T12:42:17.633974Z",
          "iopub.status.idle": "2020-09-02T12:42:17.640668Z",
          "shell.execute_reply": "2020-09-02T12:42:17.640163Z"
        },
        "id": "eyfbYKohRUVB",
        "outputId": "e531f19d-0e1f-44cd-c66d-7b26479d913c",
        "papermill": {
          "duration": 0.081659,
          "end_time": "2020-09-02T12:42:17.640777",
          "exception": false,
          "start_time": "2020-09-02T12:42:17.559118",
          "status": "completed"
        },
        "tags": [],
        "colab": {
          "base_uri": "https://localhost:8080/"
        }
      },
      "outputs": [
        {
          "output_type": "stream",
          "name": "stdout",
          "text": [
            "[[1.2183]\n",
            " [1.2166]\n",
            " [1.2126]\n",
            " [1.1989]\n",
            " [1.2031]\n",
            " [1.2056]\n",
            " [1.2038]\n",
            " [1.1916]\n",
            " [1.1967]\n",
            " [1.1895]]\n"
          ]
        }
      ],
      "source": [
        "# Processing test shape\n",
        "y_test = np.array(y_test).reshape(-1,1)\n",
        "y_test = scaler.inverse_transform(y_test)\n",
        "print(y_test[:10])"
      ]
    },
    {
      "cell_type": "code",
      "execution_count": null,
      "metadata": {
        "execution": {
          "iopub.execute_input": "2020-09-02T12:42:17.854150Z",
          "iopub.status.busy": "2020-09-02T12:42:17.853170Z",
          "iopub.status.idle": "2020-09-02T12:42:18.036742Z",
          "shell.execute_reply": "2020-09-02T12:42:18.035799Z"
        },
        "id": "Ly_SbnZ3RZxS",
        "outputId": "41797e02-1fb1-4031-b6f6-738853fbeeb2",
        "papermill": {
          "duration": 0.321387,
          "end_time": "2020-09-02T12:42:18.036867",
          "exception": false,
          "start_time": "2020-09-02T12:42:17.715480",
          "status": "completed"
        },
        "tags": [],
        "colab": {
          "base_uri": "https://localhost:8080/",
          "height": 485
        }
      },
      "outputs": [
        {
          "output_type": "execute_result",
          "data": {
            "text/plain": [
              "<matplotlib.legend.Legend at 0x7e1ed8327eb0>"
            ]
          },
          "metadata": {},
          "execution_count": 31
        },
        {
          "output_type": "display_data",
          "data": {
            "text/plain": [
              "<Figure size 1000x500 with 1 Axes>"
            ],
            "image/png": "[encoded data removed]"
          },
          "metadata": {}
        }
      ],
      "source": [
        "# Visualizing the results\n",
        "plt.figure(figsize=(10,5))\n",
        "plt.title('Foreign Exchange Rate of UK')\n",
        "plt.plot(y_test , label = 'Actual', color = 'g')\n",
        "plt.plot(y_pred , label = 'Predicted', color = 'r')\n",
        "plt.legend()"
      ]
    },
    {
      "cell_type": "code",
      "execution_count": null,
      "metadata": {
        "execution": {
          "iopub.execute_input": "2020-09-02T12:42:18.183407Z",
          "iopub.status.busy": "2020-09-02T12:42:18.182582Z",
          "iopub.status.idle": "2020-09-02T12:42:18.228475Z",
          "shell.execute_reply": "2020-09-02T12:42:18.229058Z"
        },
        "id": "mM6fn5-CokFc",
        "outputId": "94e922d1-dcf4-4286-a03b-6e11666c2986",
        "papermill": {
          "duration": 0.120161,
          "end_time": "2020-09-02T12:42:18.229208",
          "exception": false,
          "start_time": "2020-09-02T12:42:18.109047",
          "status": "completed"
        },
        "tags": [],
        "colab": {
          "base_uri": "https://localhost:8080/"
        }
      },
      "outputs": [
        {
          "output_type": "execute_result",
          "data": {
            "text/plain": [
              "6.456323069992886e-05"
            ]
          },
          "metadata": {},
          "execution_count": 41
        }
      ],
      "source": [
        "from sklearn.metrics import mean_squared_error, r2_score\n",
        "mean_squared_error(y_test, y_pred)"
      ]
    },
    {
      "cell_type": "code",
      "source": [
        "from keras.layers import Flatten, Dropout\n",
        "\n",
        "# Building the DNN model\n",
        "model_dnn = Sequential()\n",
        "model_dnn.add(Flatten(input_shape=(1, 1)))\n",
        "model_dnn.add(Dense(64, activation='relu'))\n",
        "model_dnn.add(Dense(32, activation='relu'))\n",
        "model_dnn.add(Dense(1))"
      ],
      "metadata": {
        "id": "kGwNP4Lh-xdq"
      },
      "execution_count": null,
      "outputs": []
    },
    {
      "cell_type": "code",
      "source": [
        "# Compiling the DNN model\n",
        "model_dnn.compile(optimizer='adam', loss='mse')\n",
        "\n",
        "# Training the DNN model\n",
        "model_dnn.fit(x_train, y_train, epochs=5, batch_size=1)"
      ],
      "metadata": {
        "colab": {
          "base_uri": "https://localhost:8080/"
        },
        "id": "mSXhD6PIAavj",
        "outputId": "4c849237-cdbe-4c29-bce9-e07779918f09"
      },
      "execution_count": null,
      "outputs": [
        {
          "output_type": "stream",
          "name": "stdout",
          "text": [
            "Epoch 1/5\n",
            "4259/4259 [==============================] - 12s 3ms/step - loss: 4.6402e-04\n",
            "Epoch 2/5\n",
            "4259/4259 [==============================] - 12s 3ms/step - loss: 1.2856e-04\n",
            "Epoch 3/5\n",
            "4259/4259 [==============================] - 15s 3ms/step - loss: 1.1504e-04\n",
            "Epoch 4/5\n",
            "4259/4259 [==============================] - 8s 2ms/step - loss: 1.0960e-04\n",
            "Epoch 5/5\n",
            "4259/4259 [==============================] - 9s 2ms/step - loss: 1.0616e-04\n"
          ]
        },
        {
          "output_type": "execute_result",
          "data": {
            "text/plain": [
              "<keras.src.callbacks.History at 0x7e1ec6f70820>"
            ]
          },
          "metadata": {},
          "execution_count": 45
        }
      ]
    },
    {
      "cell_type": "code",
      "source": [
        "# Making predictions using the DNN model\n",
        "y_pred_dnn = model_dnn.predict(x_test)\n",
        "y_pred_dnn = scaler.inverse_transform(y_pred_dnn)\n",
        "print(y_pred_dnn[:10])"
      ],
      "metadata": {
        "colab": {
          "base_uri": "https://localhost:8080/"
        },
        "id": "m1FaWOk2Ad7s",
        "outputId": "769cb150-ce5f-421e-ae4c-9420cfd5c964"
      },
      "execution_count": null,
      "outputs": [
        {
          "output_type": "stream",
          "name": "stdout",
          "text": [
            "12/12 [==============================] - 0s 2ms/step\n",
            "[[1.2218384]\n",
            " [1.2212976]\n",
            " [1.2197653]\n",
            " [1.2166085]\n",
            " [1.2074306]\n",
            " [1.2101561]\n",
            " [1.2118297]\n",
            " [1.2106247]\n",
            " [1.2030896]\n",
            " [1.2061224]]\n"
          ]
        }
      ]
    },
    {
      "cell_type": "code",
      "source": [
        "# Visualizing the results\n",
        "plt.figure(figsize=(10,5))\n",
        "plt.title('Foreign Exchange Rate of UK')\n",
        "plt.plot(y_test , label = 'Actual', color = 'g')\n",
        "plt.plot(y_pred_dnn , label = 'Predicted', color = 'r')\n",
        "plt.legend()"
      ],
      "metadata": {
        "colab": {
          "base_uri": "https://localhost:8080/",
          "height": 485
        },
        "id": "OLhwGTsqAkH9",
        "outputId": "11e1dca9-dc7e-448e-f8da-6a453dd8248e"
      },
      "execution_count": null,
      "outputs": [
        {
          "output_type": "execute_result",
          "data": {
            "text/plain": [
              "<matplotlib.legend.Legend at 0x7e1ec6f72530>"
            ]
          },
          "metadata": {},
          "execution_count": 47
        },
        {
          "output_type": "display_data",
          "data": {
            "text/plain": [
              "<Figure size 1000x500 with 1 Axes>"
            ],
            "image/png": "[encoded data removed]"
          },
          "metadata": {}
        }
      ]
    },
    {
      "cell_type": "code",
      "source": [
        "# Calculating metrics for LSTM model\n",
        "mse_lstm = mean_squared_error(y_test, y_pred)\n",
        "r2_lstm = r2_score(y_test, y_pred)\n",
        "\n",
        "print(\"LSTM Model:\")\n",
        "print(f\"MSE: {mse_lstm}\")\n",
        "print(f\"R-squared: {r2_lstm}\")\n",
        "\n",
        "# Calculating metrics for DNN model\n",
        "mse_dnn = mean_squared_error(y_test, y_pred_dnn)\n",
        "r2_dnn = r2_score(y_test, y_pred_dnn)\n",
        "\n",
        "print(\"\\nDNN Model:\")\n",
        "print(f\"MSE: {mse_dnn}\")\n",
        "print(f\"R-squared: {r2_dnn}\")"
      ],
      "metadata": {
        "colab": {
          "base_uri": "https://localhost:8080/"
        },
        "id": "itRv3Hl4AghD",
        "outputId": "c79dcd98-b1eb-4b46-c696-0e08f0108247"
      },
      "execution_count": null,
      "outputs": [
        {
          "output_type": "stream",
          "name": "stdout",
          "text": [
            "LSTM Model:\n",
            "MSE: 6.456323069992886e-05\n",
            "R-squared: 0.964978531199783\n",
            "\n",
            "DNN Model:\n",
            "MSE: 0.0003355017564509064\n",
            "R-squared: 0.8180115188074631\n"
          ]
        }
      ]
    },
    {
      "cell_type": "markdown",
      "source": [
        "Doing a comparison of LTSM to DNN, it is clear that LTSM has a better predictive model. DNN has a difficult time predicting the extreme changes in the dataset; whereas, LTSM is able to make those predictions with substantially higher accuracy"
      ],
      "metadata": {
        "id": "kiE1LR8dBk9X"
      }
    }
  ],
  "metadata": {
    "kernelspec": {
      "display_name": "Python 3",
      "language": "python",
      "name": "python3"
    },
    "language_info": {
      "codemirror_mode": {
        "name": "ipython",
        "version": 3
      },
      "file_extension": ".py",
      "mimetype": "text/x-python",
      "name": "python",
      "nbconvert_exporter": "python",
      "pygments_lexer": "ipython3",
      "version": "3.7.6"
    },
    "papermill": {
      "duration": 69.860802,
      "end_time": "2020-09-02T12:42:19.556096",
      "environment_variables": {},
      "exception": null,
      "input_path": "__notebook__.ipynb",
      "output_path": "__notebook__.ipynb",
      "parameters": {},
      "start_time": "2020-09-02T12:41:09.695294",
      "version": "2.1.0"
    },
    "colab": {
      "provenance": [],
      "include_colab_link": true
    }
  },
  "nbformat": 4,
  "nbformat_minor": 0
}